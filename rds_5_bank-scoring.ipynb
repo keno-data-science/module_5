{
 "cells": [
  {
   "cell_type": "markdown",
   "metadata": {
    "papermill": {
     "duration": 0.065812,
     "end_time": "2021-07-29T17:32:36.692214",
     "exception": false,
     "start_time": "2021-07-29T17:32:36.626402",
     "status": "completed"
    },
    "tags": []
   },
   "source": [
    "# [SF-DST] Credit Scoring\n",
    "\n",
    "## Прогнозирование вероятности дефолта заемщика\n",
    "\n",
    "### Работа Калашникова Сергея"
   ]
  },
  {
   "cell_type": "markdown",
   "metadata": {
    "papermill": {
     "duration": 0.062923,
     "end_time": "2021-07-29T17:32:36.823407",
     "exception": false,
     "start_time": "2021-07-29T17:32:36.760484",
     "status": "completed"
    },
    "tags": []
   },
   "source": [
    "\n",
    "### Загрузка данных\n",
    "\n",
    "\n",
    "Информация из анкетных данных заемщиков и факт наличия дефолта.\n",
    "\n",
    "Задача: спрогнозировать вероятность дефолта для новых клиентов."
   ]
  },
  {
   "cell_type": "markdown",
   "metadata": {},
   "source": [
    "Описания полей:\n",
    "\n",
    "client_id - идентификатор клиента\n",
    "\n",
    "education - уровень образования\n",
    "\n",
    "sex - пол заемщика\n",
    "\n",
    "age - возраст заемщика\n",
    "\n",
    "car - флаг наличия автомобиля\n",
    "\n",
    "car_type - флаг автомобиля иномарки\n",
    "\n",
    "decline_app_cnt - количество отказанных прошлых заявок\n",
    "\n",
    "good_work - флаг наличия “хорошей” работы\n",
    "\n",
    "bki_request_cnt - количество запросов в БКИ\n",
    "\n",
    "home_address - категоризатор домашнего адреса\n",
    "\n",
    "work_address - категоризатор рабочего адреса\n",
    "\n",
    "income - доход заемщика\n",
    "\n",
    "foreign_passport - наличие загранпаспорта\n",
    "\n",
    "sna - связь заемщика с клиентами банка\n",
    "\n",
    "first_time - давность наличия информации о заемщике\n",
    "\n",
    "score_bki - скоринговый балл по данным из БКИ\n",
    "\n",
    "region_rating - рейтинг региона\n",
    "\n",
    "app_date - дата подачи заявки\n",
    "\n",
    "default - флаг дефолта по кредиту"
   ]
  },
  {
   "cell_type": "markdown",
   "metadata": {
    "papermill": {
     "duration": 0.065179,
     "end_time": "2021-07-29T17:32:36.953584",
     "exception": false,
     "start_time": "2021-07-29T17:32:36.888405",
     "status": "completed"
    },
    "tags": []
   },
   "source": [
    "### 0. Билиотеки, функции, классы"
   ]
  },
  {
   "cell_type": "code",
   "execution_count": 1,
   "metadata": {
    "execution": {
     "iopub.execute_input": "2021-07-29T17:32:37.089546Z",
     "iopub.status.busy": "2021-07-29T17:32:37.088350Z",
     "iopub.status.idle": "2021-07-29T17:32:39.983816Z",
     "shell.execute_reply": "2021-07-29T17:32:39.984677Z",
     "shell.execute_reply.started": "2021-07-29T17:21:33.077496Z"
    },
    "papermill": {
     "duration": 2.969619,
     "end_time": "2021-07-29T17:32:39.985224",
     "exception": false,
     "start_time": "2021-07-29T17:32:37.015605",
     "status": "completed"
    },
    "tags": []
   },
   "outputs": [],
   "source": [
    "from pandas import Series\n",
    "import pandas as pd\n",
    "import numpy as np\n",
    "\n",
    "import pandas_profiling\n",
    "\n",
    "import matplotlib.pyplot as plt\n",
    "import seaborn as sns\n",
    "\n",
    "from datetime import date\n",
    "from datetime import datetime, timedelta\n",
    "\n",
    "from sklearn.preprocessing import PolynomialFeatures\n",
    "from sklearn.preprocessing import StandardScaler\n",
    "\n",
    "from sklearn.feature_selection import f_classif, mutual_info_classif\n",
    "from sklearn.preprocessing import LabelEncoder, OneHotEncoder, StandardScaler\n",
    "\n",
    "from sklearn.model_selection import GridSearchCV\n",
    "from sklearn.model_selection import train_test_split\n",
    "from sklearn.linear_model import LogisticRegression\n",
    "\n",
    "from sklearn.metrics import accuracy_score, recall_score, f1_score, mean_absolute_error, mean_squared_error, precision_score\n",
    "from sklearn.metrics import confusion_matrix\n",
    "from sklearn.metrics import auc, roc_auc_score, roc_curve\n",
    "from sklearn.metrics import plot_confusion_matrix, plot_roc_curve, plot_precision_recall_curve\n",
    "\n",
    "pd.set_option('display.max_rows', 50)  # показывать больше строк\n",
    "pd.set_option('display.max_columns', 50)  # показывать больше колонок\n",
    "\n",
    "import warnings\n",
    "warnings.filterwarnings(\"ignore\")\n",
    "\n",
    "\n",
    "import os\n",
    "for dirname, _, filenames in os.walk('/kaggle/input'):\n",
    "    for filename in filenames:\n",
    "        print(os.path.join(dirname, filename))\n",
    "\n"
   ]
  },
  {
   "cell_type": "code",
   "execution_count": 2,
   "metadata": {
    "execution": {
     "iopub.execute_input": "2021-07-29T17:32:40.118164Z",
     "iopub.status.busy": "2021-07-29T17:32:40.117463Z",
     "iopub.status.idle": "2021-07-29T17:32:40.129801Z",
     "shell.execute_reply": "2021-07-29T17:32:40.130297Z",
     "shell.execute_reply.started": "2021-07-29T17:21:35.330079Z"
    },
    "papermill": {
     "duration": 0.079335,
     "end_time": "2021-07-29T17:32:40.130495",
     "exception": false,
     "start_time": "2021-07-29T17:32:40.051160",
     "status": "completed"
    },
    "tags": []
   },
   "outputs": [],
   "source": [
    "# Функция построения графика ROC AUC\n",
    "def show_roc_auc(y_test, y_probs): \n",
    "    fpr, tpr, threshold = roc_curve(y_test, y_probs)\n",
    "    roc_auc = roc_auc_score(y_test, y_probs)\n",
    "    plt.figure()\n",
    "    plt.plot([0, 1], label='Baseline', linestyle='--')\n",
    "    plt.plot(fpr, tpr, label = 'Regression')\n",
    "    plt.title('Logistic Regression ROC AUC = %0.3f' % roc_auc)\n",
    "    plt.ylabel('True Positive Rate')\n",
    "    plt.xlabel('False Positive Rate')\n",
    "    plt.legend(loc = 'lower right')\n",
    "    plt.show()\n",
    "\n",
    "# Функция построения матрицы ошибок\n",
    "def show_confusion_matrix(lastmodel,X_test,y_test):    \n",
    "    class_names = ['NonDefault', 'Default']\n",
    "    titles_options = [(\"Confusion matrix\", None)]\n",
    "    for title, normalize in titles_options:\n",
    "        disp = plot_confusion_matrix(lastmodel, X_test, y_test, \n",
    "                                     display_labels=class_names, \n",
    "                                     cmap=plt.cm.Blues, \n",
    "                                     normalize=normalize)\n",
    "        disp.ax_.set_title(title)\n",
    "\n",
    "        print(title)\n",
    "        print(disp.confusion_matrix)\n",
    "\n",
    "    plt.show()\n",
    "    \n",
    "# Функция визуализации данных числовых признаков\n",
    "def num_column_analysis(i):\n",
    "    display(pd.DataFrame(train[i].value_counts(normalize=True, sort=True)))\n",
    "    sns.boxplot(x = 'default', y = i, data = train) \n",
    "    plt.show()\n",
    "    train[i].hist(bins = 100) \n",
    "    \n",
    "# Функция объединения признаков car и car_typе    \n",
    "def combining_types_car(row):\n",
    "    result = row['car'] + row['car_type'] \n",
    "    return result\n",
    "\n",
    "# Функция объединения признаков home_address и work_address\n",
    "def combining_types_adr(row):\n",
    "    result = 10*row['home_address'] + row['work_address'] \n",
    "    return result\n"
   ]
  },
  {
   "cell_type": "markdown",
   "metadata": {
    "papermill": {
     "duration": 0.062001,
     "end_time": "2021-07-29T17:32:40.254196",
     "exception": false,
     "start_time": "2021-07-29T17:32:40.192195",
     "status": "completed"
    },
    "tags": []
   },
   "source": [
    "# 1. Загрузка и предварительный осмотр данных"
   ]
  },
  {
   "cell_type": "code",
   "execution_count": 3,
   "metadata": {
    "execution": {
     "iopub.execute_input": "2021-07-29T17:32:40.378545Z",
     "iopub.status.busy": "2021-07-29T17:32:40.377899Z",
     "iopub.status.idle": "2021-07-29T17:32:40.726445Z",
     "shell.execute_reply": "2021-07-29T17:32:40.725800Z",
     "shell.execute_reply.started": "2021-07-29T17:21:35.342935Z"
    },
    "papermill": {
     "duration": 0.413005,
     "end_time": "2021-07-29T17:32:40.726617",
     "exception": false,
     "start_time": "2021-07-29T17:32:40.313612",
     "status": "completed"
    },
    "tags": []
   },
   "outputs": [],
   "source": [
    "train = pd.read_csv('train.csv')\n",
    "test = pd.read_csv('test.csv')\n",
    "sample_submission = pd.read_csv('sample_submission.csv')"
   ]
  },
  {
   "cell_type": "markdown",
   "metadata": {},
   "source": [
    "Размер тренировочного и тестового датасетов."
   ]
  },
  {
   "cell_type": "code",
   "execution_count": 4,
   "metadata": {
    "execution": {
     "iopub.execute_input": "2021-07-29T17:32:40.850743Z",
     "iopub.status.busy": "2021-07-29T17:32:40.849885Z",
     "iopub.status.idle": "2021-07-29T17:32:40.857081Z",
     "shell.execute_reply": "2021-07-29T17:32:40.856378Z",
     "shell.execute_reply.started": "2021-07-29T17:21:35.686716Z"
    },
    "papermill": {
     "duration": 0.071137,
     "end_time": "2021-07-29T17:32:40.857245",
     "exception": false,
     "start_time": "2021-07-29T17:32:40.786108",
     "status": "completed"
    },
    "tags": []
   },
   "outputs": [
    {
     "name": "stdout",
     "output_type": "stream",
     "text": [
      "Размер тренировочного датасета: \n",
      "(73799, 19)\n",
      "Размер тестового датасета: \n",
      "(36349, 18)\n",
      "Размер объединенного датасета: \n",
      "110148\n"
     ]
    }
   ],
   "source": [
    "print('Размер тренировочного датасета: ', train.shape,\n",
    "      'Размер тестового датасета: ', test.shape, \n",
    "      'Размер объединенного датасета: ', train.shape[0]+test.shape[0], sep='\\n')"
   ]
  },
  {
   "cell_type": "markdown",
   "metadata": {},
   "source": [
    "Объединяем тренировочные и тестовые данные в один датасет для того чтоб все монипуляции с признаками проводить на обоих датасетах"
   ]
  },
  {
   "cell_type": "code",
   "execution_count": 5,
   "metadata": {
    "execution": {
     "iopub.execute_input": "2021-07-29T17:32:40.988959Z",
     "iopub.status.busy": "2021-07-29T17:32:40.988178Z",
     "iopub.status.idle": "2021-07-29T17:32:41.109545Z",
     "shell.execute_reply": "2021-07-29T17:32:41.108959Z",
     "shell.execute_reply.started": "2021-07-29T17:21:35.696901Z"
    },
    "papermill": {
     "duration": 0.192842,
     "end_time": "2021-07-29T17:32:41.109716",
     "exception": false,
     "start_time": "2021-07-29T17:32:40.916874",
     "status": "completed"
    },
    "tags": []
   },
   "outputs": [
    {
     "data": {
      "text/html": [
       "<div>\n",
       "<style scoped>\n",
       "    .dataframe tbody tr th:only-of-type {\n",
       "        vertical-align: middle;\n",
       "    }\n",
       "\n",
       "    .dataframe tbody tr th {\n",
       "        vertical-align: top;\n",
       "    }\n",
       "\n",
       "    .dataframe thead th {\n",
       "        text-align: right;\n",
       "    }\n",
       "</style>\n",
       "<table border=\"1\" class=\"dataframe\">\n",
       "  <thead>\n",
       "    <tr style=\"text-align: right;\">\n",
       "      <th></th>\n",
       "      <th>client_id</th>\n",
       "      <th>app_date</th>\n",
       "      <th>education</th>\n",
       "      <th>sex</th>\n",
       "      <th>age</th>\n",
       "      <th>car</th>\n",
       "      <th>car_type</th>\n",
       "      <th>decline_app_cnt</th>\n",
       "      <th>good_work</th>\n",
       "      <th>score_bki</th>\n",
       "      <th>bki_request_cnt</th>\n",
       "      <th>region_rating</th>\n",
       "      <th>home_address</th>\n",
       "      <th>work_address</th>\n",
       "      <th>income</th>\n",
       "      <th>sna</th>\n",
       "      <th>first_time</th>\n",
       "      <th>foreign_passport</th>\n",
       "      <th>default</th>\n",
       "      <th>train</th>\n",
       "    </tr>\n",
       "  </thead>\n",
       "  <tbody>\n",
       "    <tr>\n",
       "      <th>93166</th>\n",
       "      <td>19823</td>\n",
       "      <td>27JAN2014</td>\n",
       "      <td>SCH</td>\n",
       "      <td>M</td>\n",
       "      <td>49</td>\n",
       "      <td>Y</td>\n",
       "      <td>Y</td>\n",
       "      <td>0</td>\n",
       "      <td>0</td>\n",
       "      <td>-2.177729</td>\n",
       "      <td>4</td>\n",
       "      <td>70</td>\n",
       "      <td>1</td>\n",
       "      <td>2</td>\n",
       "      <td>70000</td>\n",
       "      <td>1</td>\n",
       "      <td>3</td>\n",
       "      <td>N</td>\n",
       "      <td>NaN</td>\n",
       "      <td>0</td>\n",
       "    </tr>\n",
       "    <tr>\n",
       "      <th>12063</th>\n",
       "      <td>5298</td>\n",
       "      <td>12JAN2014</td>\n",
       "      <td>SCH</td>\n",
       "      <td>M</td>\n",
       "      <td>21</td>\n",
       "      <td>N</td>\n",
       "      <td>N</td>\n",
       "      <td>0</td>\n",
       "      <td>0</td>\n",
       "      <td>-1.557774</td>\n",
       "      <td>1</td>\n",
       "      <td>40</td>\n",
       "      <td>2</td>\n",
       "      <td>3</td>\n",
       "      <td>20000</td>\n",
       "      <td>4</td>\n",
       "      <td>1</td>\n",
       "      <td>N</td>\n",
       "      <td>0.0</td>\n",
       "      <td>1</td>\n",
       "    </tr>\n",
       "    <tr>\n",
       "      <th>40149</th>\n",
       "      <td>29421</td>\n",
       "      <td>05FEB2014</td>\n",
       "      <td>GRD</td>\n",
       "      <td>M</td>\n",
       "      <td>25</td>\n",
       "      <td>N</td>\n",
       "      <td>N</td>\n",
       "      <td>0</td>\n",
       "      <td>0</td>\n",
       "      <td>-2.024100</td>\n",
       "      <td>2</td>\n",
       "      <td>80</td>\n",
       "      <td>2</td>\n",
       "      <td>3</td>\n",
       "      <td>40000</td>\n",
       "      <td>1</td>\n",
       "      <td>3</td>\n",
       "      <td>N</td>\n",
       "      <td>0.0</td>\n",
       "      <td>1</td>\n",
       "    </tr>\n",
       "    <tr>\n",
       "      <th>40304</th>\n",
       "      <td>24225</td>\n",
       "      <td>31JAN2014</td>\n",
       "      <td>GRD</td>\n",
       "      <td>F</td>\n",
       "      <td>42</td>\n",
       "      <td>Y</td>\n",
       "      <td>Y</td>\n",
       "      <td>0</td>\n",
       "      <td>1</td>\n",
       "      <td>-2.493746</td>\n",
       "      <td>0</td>\n",
       "      <td>80</td>\n",
       "      <td>2</td>\n",
       "      <td>3</td>\n",
       "      <td>115000</td>\n",
       "      <td>1</td>\n",
       "      <td>3</td>\n",
       "      <td>Y</td>\n",
       "      <td>0.0</td>\n",
       "      <td>1</td>\n",
       "    </tr>\n",
       "    <tr>\n",
       "      <th>11627</th>\n",
       "      <td>87929</td>\n",
       "      <td>04APR2014</td>\n",
       "      <td>SCH</td>\n",
       "      <td>F</td>\n",
       "      <td>30</td>\n",
       "      <td>N</td>\n",
       "      <td>N</td>\n",
       "      <td>0</td>\n",
       "      <td>1</td>\n",
       "      <td>-0.968535</td>\n",
       "      <td>1</td>\n",
       "      <td>50</td>\n",
       "      <td>1</td>\n",
       "      <td>1</td>\n",
       "      <td>15000</td>\n",
       "      <td>2</td>\n",
       "      <td>3</td>\n",
       "      <td>N</td>\n",
       "      <td>1.0</td>\n",
       "      <td>1</td>\n",
       "    </tr>\n",
       "  </tbody>\n",
       "</table>\n",
       "</div>"
      ],
      "text/plain": [
       "       client_id   app_date education sex  age car car_type  decline_app_cnt  \\\n",
       "93166      19823  27JAN2014       SCH   M   49   Y        Y                0   \n",
       "12063       5298  12JAN2014       SCH   M   21   N        N                0   \n",
       "40149      29421  05FEB2014       GRD   M   25   N        N                0   \n",
       "40304      24225  31JAN2014       GRD   F   42   Y        Y                0   \n",
       "11627      87929  04APR2014       SCH   F   30   N        N                0   \n",
       "\n",
       "       good_work  score_bki  bki_request_cnt  region_rating  home_address  \\\n",
       "93166          0  -2.177729                4             70             1   \n",
       "12063          0  -1.557774                1             40             2   \n",
       "40149          0  -2.024100                2             80             2   \n",
       "40304          1  -2.493746                0             80             2   \n",
       "11627          1  -0.968535                1             50             1   \n",
       "\n",
       "       work_address  income  sna  first_time foreign_passport  default  train  \n",
       "93166             2   70000    1           3                N      NaN      0  \n",
       "12063             3   20000    4           1                N      0.0      1  \n",
       "40149             3   40000    1           3                N      0.0      1  \n",
       "40304             3  115000    1           3                Y      0.0      1  \n",
       "11627             1   15000    2           3                N      1.0      1  "
      ]
     },
     "execution_count": 5,
     "metadata": {},
     "output_type": "execute_result"
    }
   ],
   "source": [
    "train['train'] = 1 # тренировочные\n",
    "test['train'] = 0 # тестовые\n",
    "df = pd.concat([train, test], ignore_index=True)\n",
    "df.sample(5)"
   ]
  },
  {
   "cell_type": "markdown",
   "metadata": {
    "papermill": {
     "duration": 0.066193,
     "end_time": "2021-07-29T17:32:41.360980",
     "exception": false,
     "start_time": "2021-07-29T17:32:41.294787",
     "status": "completed"
    },
    "tags": []
   },
   "source": [
    "# Общая информация о полях"
   ]
  },
  {
   "cell_type": "code",
   "execution_count": 6,
   "metadata": {
    "execution": {
     "iopub.execute_input": "2021-07-29T17:32:41.497838Z",
     "iopub.status.busy": "2021-07-29T17:32:41.497077Z",
     "iopub.status.idle": "2021-07-29T17:32:41.584282Z",
     "shell.execute_reply": "2021-07-29T17:32:41.583754Z",
     "shell.execute_reply.started": "2021-07-29T17:21:35.783546Z"
    },
    "papermill": {
     "duration": 0.157959,
     "end_time": "2021-07-29T17:32:41.584429",
     "exception": false,
     "start_time": "2021-07-29T17:32:41.426470",
     "status": "completed"
    },
    "tags": []
   },
   "outputs": [
    {
     "name": "stdout",
     "output_type": "stream",
     "text": [
      "<class 'pandas.core.frame.DataFrame'>\n",
      "RangeIndex: 110148 entries, 0 to 110147\n",
      "Data columns (total 20 columns):\n",
      " #   Column            Non-Null Count   Dtype  \n",
      "---  ------            --------------   -----  \n",
      " 0   client_id         110148 non-null  int64  \n",
      " 1   app_date          110148 non-null  object \n",
      " 2   education         109670 non-null  object \n",
      " 3   sex               110148 non-null  object \n",
      " 4   age               110148 non-null  int64  \n",
      " 5   car               110148 non-null  object \n",
      " 6   car_type          110148 non-null  object \n",
      " 7   decline_app_cnt   110148 non-null  int64  \n",
      " 8   good_work         110148 non-null  int64  \n",
      " 9   score_bki         110148 non-null  float64\n",
      " 10  bki_request_cnt   110148 non-null  int64  \n",
      " 11  region_rating     110148 non-null  int64  \n",
      " 12  home_address      110148 non-null  int64  \n",
      " 13  work_address      110148 non-null  int64  \n",
      " 14  income            110148 non-null  int64  \n",
      " 15  sna               110148 non-null  int64  \n",
      " 16  first_time        110148 non-null  int64  \n",
      " 17  foreign_passport  110148 non-null  object \n",
      " 18  default           73799 non-null   float64\n",
      " 19  train             110148 non-null  int64  \n",
      "dtypes: float64(2), int64(12), object(6)\n",
      "memory usage: 16.8+ MB\n"
     ]
    }
   ],
   "source": [
    "df.info()"
   ]
  },
  {
   "cell_type": "code",
   "execution_count": 7,
   "metadata": {
    "execution": {
     "iopub.execute_input": "2021-07-29T17:32:41.721887Z",
     "iopub.status.busy": "2021-07-29T17:32:41.721195Z",
     "iopub.status.idle": "2021-07-29T17:32:41.829238Z",
     "shell.execute_reply": "2021-07-29T17:32:41.829721Z",
     "shell.execute_reply.started": "2021-07-29T17:21:35.824270Z"
    },
    "papermill": {
     "duration": 0.181261,
     "end_time": "2021-07-29T17:32:41.829915",
     "exception": false,
     "start_time": "2021-07-29T17:32:41.648654",
     "status": "completed"
    },
    "tags": []
   },
   "outputs": [
    {
     "data": {
      "text/html": [
       "<div>\n",
       "<style scoped>\n",
       "    .dataframe tbody tr th:only-of-type {\n",
       "        vertical-align: middle;\n",
       "    }\n",
       "\n",
       "    .dataframe tbody tr th {\n",
       "        vertical-align: top;\n",
       "    }\n",
       "\n",
       "    .dataframe thead th {\n",
       "        text-align: right;\n",
       "    }\n",
       "</style>\n",
       "<table border=\"1\" class=\"dataframe\">\n",
       "  <thead>\n",
       "    <tr style=\"text-align: right;\">\n",
       "      <th></th>\n",
       "      <th>client_id</th>\n",
       "      <th>age</th>\n",
       "      <th>decline_app_cnt</th>\n",
       "      <th>good_work</th>\n",
       "      <th>score_bki</th>\n",
       "      <th>bki_request_cnt</th>\n",
       "      <th>region_rating</th>\n",
       "      <th>home_address</th>\n",
       "      <th>work_address</th>\n",
       "      <th>income</th>\n",
       "      <th>sna</th>\n",
       "      <th>first_time</th>\n",
       "      <th>default</th>\n",
       "      <th>train</th>\n",
       "    </tr>\n",
       "  </thead>\n",
       "  <tbody>\n",
       "    <tr>\n",
       "      <th>count</th>\n",
       "      <td>110148.000000</td>\n",
       "      <td>110148.000000</td>\n",
       "      <td>110148.000000</td>\n",
       "      <td>110148.000000</td>\n",
       "      <td>110148.000000</td>\n",
       "      <td>110148.000000</td>\n",
       "      <td>110148.000000</td>\n",
       "      <td>110148.000000</td>\n",
       "      <td>110148.000000</td>\n",
       "      <td>110148.000000</td>\n",
       "      <td>110148.000000</td>\n",
       "      <td>110148.000000</td>\n",
       "      <td>73799.000000</td>\n",
       "      <td>110148.000000</td>\n",
       "    </tr>\n",
       "    <tr>\n",
       "      <th>mean</th>\n",
       "      <td>55074.500000</td>\n",
       "      <td>39.249410</td>\n",
       "      <td>0.273205</td>\n",
       "      <td>0.165514</td>\n",
       "      <td>-1.904535</td>\n",
       "      <td>2.005002</td>\n",
       "      <td>56.751189</td>\n",
       "      <td>1.574945</td>\n",
       "      <td>2.497867</td>\n",
       "      <td>41012.648537</td>\n",
       "      <td>1.731588</td>\n",
       "      <td>2.765570</td>\n",
       "      <td>0.126994</td>\n",
       "      <td>0.669999</td>\n",
       "    </tr>\n",
       "    <tr>\n",
       "      <th>std</th>\n",
       "      <td>31797.133063</td>\n",
       "      <td>11.518063</td>\n",
       "      <td>0.799099</td>\n",
       "      <td>0.371645</td>\n",
       "      <td>0.499397</td>\n",
       "      <td>2.266926</td>\n",
       "      <td>13.065923</td>\n",
       "      <td>0.527562</td>\n",
       "      <td>0.687651</td>\n",
       "      <td>45399.735051</td>\n",
       "      <td>1.122652</td>\n",
       "      <td>1.010151</td>\n",
       "      <td>0.332968</td>\n",
       "      <td>0.470215</td>\n",
       "    </tr>\n",
       "    <tr>\n",
       "      <th>min</th>\n",
       "      <td>1.000000</td>\n",
       "      <td>21.000000</td>\n",
       "      <td>0.000000</td>\n",
       "      <td>0.000000</td>\n",
       "      <td>-3.624586</td>\n",
       "      <td>0.000000</td>\n",
       "      <td>20.000000</td>\n",
       "      <td>1.000000</td>\n",
       "      <td>1.000000</td>\n",
       "      <td>1000.000000</td>\n",
       "      <td>1.000000</td>\n",
       "      <td>1.000000</td>\n",
       "      <td>0.000000</td>\n",
       "      <td>0.000000</td>\n",
       "    </tr>\n",
       "    <tr>\n",
       "      <th>25%</th>\n",
       "      <td>27537.750000</td>\n",
       "      <td>30.000000</td>\n",
       "      <td>0.000000</td>\n",
       "      <td>0.000000</td>\n",
       "      <td>-2.260434</td>\n",
       "      <td>0.000000</td>\n",
       "      <td>50.000000</td>\n",
       "      <td>1.000000</td>\n",
       "      <td>2.000000</td>\n",
       "      <td>20000.000000</td>\n",
       "      <td>1.000000</td>\n",
       "      <td>2.000000</td>\n",
       "      <td>0.000000</td>\n",
       "      <td>0.000000</td>\n",
       "    </tr>\n",
       "    <tr>\n",
       "      <th>50%</th>\n",
       "      <td>55074.500000</td>\n",
       "      <td>37.000000</td>\n",
       "      <td>0.000000</td>\n",
       "      <td>0.000000</td>\n",
       "      <td>-1.920823</td>\n",
       "      <td>1.000000</td>\n",
       "      <td>50.000000</td>\n",
       "      <td>2.000000</td>\n",
       "      <td>3.000000</td>\n",
       "      <td>30000.000000</td>\n",
       "      <td>1.000000</td>\n",
       "      <td>3.000000</td>\n",
       "      <td>0.000000</td>\n",
       "      <td>1.000000</td>\n",
       "    </tr>\n",
       "    <tr>\n",
       "      <th>75%</th>\n",
       "      <td>82611.250000</td>\n",
       "      <td>48.000000</td>\n",
       "      <td>0.000000</td>\n",
       "      <td>0.000000</td>\n",
       "      <td>-1.567888</td>\n",
       "      <td>3.000000</td>\n",
       "      <td>60.000000</td>\n",
       "      <td>2.000000</td>\n",
       "      <td>3.000000</td>\n",
       "      <td>48000.000000</td>\n",
       "      <td>2.000000</td>\n",
       "      <td>4.000000</td>\n",
       "      <td>0.000000</td>\n",
       "      <td>1.000000</td>\n",
       "    </tr>\n",
       "    <tr>\n",
       "      <th>max</th>\n",
       "      <td>110148.000000</td>\n",
       "      <td>72.000000</td>\n",
       "      <td>33.000000</td>\n",
       "      <td>1.000000</td>\n",
       "      <td>0.199773</td>\n",
       "      <td>53.000000</td>\n",
       "      <td>80.000000</td>\n",
       "      <td>3.000000</td>\n",
       "      <td>3.000000</td>\n",
       "      <td>1000000.000000</td>\n",
       "      <td>4.000000</td>\n",
       "      <td>4.000000</td>\n",
       "      <td>1.000000</td>\n",
       "      <td>1.000000</td>\n",
       "    </tr>\n",
       "  </tbody>\n",
       "</table>\n",
       "</div>"
      ],
      "text/plain": [
       "           client_id            age  decline_app_cnt      good_work  \\\n",
       "count  110148.000000  110148.000000    110148.000000  110148.000000   \n",
       "mean    55074.500000      39.249410         0.273205       0.165514   \n",
       "std     31797.133063      11.518063         0.799099       0.371645   \n",
       "min         1.000000      21.000000         0.000000       0.000000   \n",
       "25%     27537.750000      30.000000         0.000000       0.000000   \n",
       "50%     55074.500000      37.000000         0.000000       0.000000   \n",
       "75%     82611.250000      48.000000         0.000000       0.000000   \n",
       "max    110148.000000      72.000000        33.000000       1.000000   \n",
       "\n",
       "           score_bki  bki_request_cnt  region_rating   home_address  \\\n",
       "count  110148.000000    110148.000000  110148.000000  110148.000000   \n",
       "mean       -1.904535         2.005002      56.751189       1.574945   \n",
       "std         0.499397         2.266926      13.065923       0.527562   \n",
       "min        -3.624586         0.000000      20.000000       1.000000   \n",
       "25%        -2.260434         0.000000      50.000000       1.000000   \n",
       "50%        -1.920823         1.000000      50.000000       2.000000   \n",
       "75%        -1.567888         3.000000      60.000000       2.000000   \n",
       "max         0.199773        53.000000      80.000000       3.000000   \n",
       "\n",
       "        work_address          income            sna     first_time  \\\n",
       "count  110148.000000   110148.000000  110148.000000  110148.000000   \n",
       "mean        2.497867    41012.648537       1.731588       2.765570   \n",
       "std         0.687651    45399.735051       1.122652       1.010151   \n",
       "min         1.000000     1000.000000       1.000000       1.000000   \n",
       "25%         2.000000    20000.000000       1.000000       2.000000   \n",
       "50%         3.000000    30000.000000       1.000000       3.000000   \n",
       "75%         3.000000    48000.000000       2.000000       4.000000   \n",
       "max         3.000000  1000000.000000       4.000000       4.000000   \n",
       "\n",
       "            default          train  \n",
       "count  73799.000000  110148.000000  \n",
       "mean       0.126994       0.669999  \n",
       "std        0.332968       0.470215  \n",
       "min        0.000000       0.000000  \n",
       "25%        0.000000       0.000000  \n",
       "50%        0.000000       1.000000  \n",
       "75%        0.000000       1.000000  \n",
       "max        1.000000       1.000000  "
      ]
     },
     "execution_count": 7,
     "metadata": {},
     "output_type": "execute_result"
    }
   ],
   "source": [
    "df.describe()"
   ]
  },
  {
   "cell_type": "markdown",
   "metadata": {},
   "source": [
    "EDA c помощью pandas_profiling"
   ]
  },
  {
   "cell_type": "code",
   "execution_count": 8,
   "metadata": {
    "execution": {
     "iopub.execute_input": "2021-07-29T17:32:41.967395Z",
     "iopub.status.busy": "2021-07-29T17:32:41.966629Z",
     "iopub.status.idle": "2021-07-29T17:33:32.747591Z",
     "shell.execute_reply": "2021-07-29T17:33:32.747052Z",
     "shell.execute_reply.started": "2021-07-29T17:21:35.899905Z"
    },
    "papermill": {
     "duration": 50.851629,
     "end_time": "2021-07-29T17:33:32.747755",
     "exception": false,
     "start_time": "2021-07-29T17:32:41.896126",
     "status": "completed"
    },
    "tags": []
   },
   "outputs": [],
   "source": [
    "# pandas_profiling.ProfileReport(df)"
   ]
  },
  {
   "cell_type": "markdown",
   "metadata": {
    "papermill": {
     "duration": 0.248478,
     "end_time": "2021-07-29T17:33:33.236945",
     "exception": false,
     "start_time": "2021-07-29T17:33:32.988467",
     "status": "completed"
    },
    "tags": []
   },
   "source": [
    "Пропуски в колонке education.  \n",
    "Выборка не сбалансирована.   \n",
    "Количество дефолтных клиентов в 6 раз больше чем не дефолтных.   \n",
    "Коррелируют между собой признаки: first_time/sna, work_address/home_address.  "
   ]
  },
  {
   "cell_type": "markdown",
   "metadata": {
    "papermill": {
     "duration": 0.243736,
     "end_time": "2021-07-29T17:33:33.729548",
     "exception": false,
     "start_time": "2021-07-29T17:33:33.485812",
     "status": "completed"
    },
    "tags": []
   },
   "source": [
    "# 2. Предварительная обработка данных для построения первой модели"
   ]
  },
  {
   "cell_type": "markdown",
   "metadata": {},
   "source": [
    "### 2.1    \n",
    "Избавимся от пропусков в колонке education.\n",
    "Меняем пропуски на случайными значениями, в том же соотношении (Используем только - SCH, GRD, UGR)"
   ]
  },
  {
   "cell_type": "code",
   "execution_count": 9,
   "metadata": {
    "execution": {
     "iopub.execute_input": "2021-07-29T17:33:34.253261Z",
     "iopub.status.busy": "2021-07-29T17:33:34.249312Z",
     "iopub.status.idle": "2021-07-29T17:33:34.256965Z",
     "shell.execute_reply": "2021-07-29T17:33:34.256268Z",
     "shell.execute_reply.started": "2021-07-29T17:22:13.989960Z"
    },
    "papermill": {
     "duration": 0.28446,
     "end_time": "2021-07-29T17:33:34.257124",
     "exception": false,
     "start_time": "2021-07-29T17:33:33.972664",
     "status": "completed"
    },
    "tags": []
   },
   "outputs": [
    {
     "data": {
      "text/plain": [
       "SCH    0.528841\n",
       "GRD    0.317024\n",
       "UGR    0.134476\n",
       "PGR    0.017006\n",
       "ACD    0.002653\n",
       "Name: education, dtype: float64"
      ]
     },
     "execution_count": 9,
     "metadata": {},
     "output_type": "execute_result"
    }
   ],
   "source": [
    "df['education'].value_counts(normalize=True)"
   ]
  },
  {
   "cell_type": "code",
   "execution_count": 10,
   "metadata": {
    "execution": {
     "iopub.execute_input": "2021-07-29T17:33:34.755770Z",
     "iopub.status.busy": "2021-07-29T17:33:34.755082Z",
     "iopub.status.idle": "2021-07-29T17:33:34.941035Z",
     "shell.execute_reply": "2021-07-29T17:33:34.940426Z",
     "shell.execute_reply.started": "2021-07-29T17:22:14.006602Z"
    },
    "papermill": {
     "duration": 0.437282,
     "end_time": "2021-07-29T17:33:34.941192",
     "exception": false,
     "start_time": "2021-07-29T17:33:34.503910",
     "status": "completed"
    },
    "tags": []
   },
   "outputs": [],
   "source": [
    "df.fillna('empty',inplace=True)\n",
    "df['education']=df['education'].apply(lambda x: np.random.choice(['SCH','GRD','UGR'],p=[0.53,0.33,0.14]) \n",
    "                                     if x=='empty' else x)"
   ]
  },
  {
   "cell_type": "markdown",
   "metadata": {},
   "source": [
    "### 2.2    \n",
    "Переводим дату в подходящий вид.   \n",
    "Формируем новые признаки на основе даты.  "
   ]
  },
  {
   "cell_type": "code",
   "execution_count": 11,
   "metadata": {},
   "outputs": [],
   "source": [
    "df['app_date'] = pd.to_datetime(df['app_date'])\n",
    "df['day'] = df.app_date.dt.day\n",
    "df['month'] = df.app_date.dt.month\n",
    "df['weekday'] = df.app_date.dt.weekday\n",
    "df['days'] = (df.app_date.max() - df.app_date).dt.days # Кол-во дней до даты конца наблюдений\n",
    "df.drop(['app_date'],axis=1, inplace=True) # Убираем app_date"
   ]
  },
  {
   "cell_type": "markdown",
   "metadata": {},
   "source": [
    "### 2.3  \n",
    "Создаем списки числовых, бинарных и категориальных переменных:"
   ]
  },
  {
   "cell_type": "code",
   "execution_count": 12,
   "metadata": {
    "execution": {
     "iopub.execute_input": "2021-07-29T17:33:35.433917Z",
     "iopub.status.busy": "2021-07-29T17:33:35.432850Z",
     "iopub.status.idle": "2021-07-29T17:33:35.435111Z",
     "shell.execute_reply": "2021-07-29T17:33:35.435598Z",
     "shell.execute_reply.started": "2021-07-29T17:22:14.203055Z"
    },
    "papermill": {
     "duration": 0.250676,
     "end_time": "2021-07-29T17:33:35.435789",
     "exception": false,
     "start_time": "2021-07-29T17:33:35.185113",
     "status": "completed"
    },
    "tags": []
   },
   "outputs": [],
   "source": [
    "# числовые\n",
    "num_cols = [\n",
    "    'age',\n",
    "    'decline_app_cnt',\n",
    "    'score_bki',\n",
    "    'bki_request_cnt',\n",
    "    'income',\n",
    "    'day',\n",
    "    'month',\n",
    "    'weekday',\n",
    "    'days'\n",
    "    ]\n",
    "\n",
    "# бинарные, сразу используем LabelEncoder\n",
    "bin_cols = [\"sex\", \"car\", \"car_type\", \"good_work\", \"foreign_passport\"]\n",
    "\n",
    "label_encoder = LabelEncoder()\n",
    "\n",
    "for i in bin_cols:\n",
    "    df[i] = label_encoder.fit_transform(df[i])\n",
    "\n",
    "# категориальные\n",
    "cat_cols = [\n",
    "    'education',\n",
    "    'region_rating',\n",
    "    'home_address',\n",
    "    'work_address',\n",
    "    'sna',\n",
    "    'first_time',\n",
    "    ]         "
   ]
  },
  {
   "cell_type": "markdown",
   "metadata": {},
   "source": [
    "### 2.4 \n",
    "Разделим датасет на обучающую и тестовую часть.  \n",
    "Проведем OneHot-кодирование категориальных признаков.  \n",
    "Объединяем числовые, бинарные и категориальные переменные в одно признаковое пространство.  "
   ]
  },
  {
   "cell_type": "code",
   "execution_count": 13,
   "metadata": {
    "execution": {
     "iopub.execute_input": "2021-07-29T17:33:36.613844Z",
     "iopub.status.busy": "2021-07-29T17:33:36.612572Z",
     "iopub.status.idle": "2021-07-29T17:33:36.642420Z",
     "shell.execute_reply": "2021-07-29T17:33:36.641836Z",
     "shell.execute_reply.started": "2021-07-29T17:22:14.410116Z"
    },
    "papermill": {
     "duration": 0.284744,
     "end_time": "2021-07-29T17:33:36.642590",
     "exception": false,
     "start_time": "2021-07-29T17:33:36.357846",
     "status": "completed"
    },
    "tags": []
   },
   "outputs": [],
   "source": [
    "train = df[df['train']==1].drop(['train'],axis=1)\n",
    "test = df[df['train']==0].drop(['train','default'],axis=1)\n",
    "\n",
    "X_cat = OneHotEncoder(sparse=False).fit_transform(train[cat_cols].values)\n",
    "\n",
    "X = np.hstack([train[num_cols], train[bin_cols].values,X_cat])\n",
    "Y = train['default'].to_numpy().astype('int')\n",
    "X_train, X_test, y_train, y_test = train_test_split(X, Y, test_size=0.20, random_state=32)"
   ]
  },
  {
   "cell_type": "markdown",
   "metadata": {
    "papermill": {
     "duration": 0.238716,
     "end_time": "2021-07-29T17:33:38.917893",
     "exception": false,
     "start_time": "2021-07-29T17:33:38.679177",
     "status": "completed"
    },
    "tags": []
   },
   "source": [
    "# 3. Построим предворительная модель"
   ]
  },
  {
   "cell_type": "markdown",
   "metadata": {},
   "source": [
    "Обучаем модель.  \n",
    "Строим ROC AUC.  \n",
    "Строим матрицу ошибок.  \n",
    "Выводим метрики.  "
   ]
  },
  {
   "cell_type": "code",
   "execution_count": 14,
   "metadata": {
    "execution": {
     "iopub.execute_input": "2021-07-29T17:33:39.443732Z",
     "iopub.status.busy": "2021-07-29T17:33:39.442566Z",
     "iopub.status.idle": "2021-07-29T17:33:40.483594Z",
     "shell.execute_reply": "2021-07-29T17:33:40.484283Z",
     "shell.execute_reply.started": "2021-07-29T17:22:14.763781Z"
    },
    "papermill": {
     "duration": 1.318608,
     "end_time": "2021-07-29T17:33:40.484519",
     "exception": false,
     "start_time": "2021-07-29T17:33:39.165911",
     "status": "completed"
    },
    "tags": []
   },
   "outputs": [
    {
     "data": {
      "image/png": "[encoded data removed]",
      "text/plain": [
       "<Figure size 432x288 with 1 Axes>"
      ]
     },
     "metadata": {
      "needs_background": "light"
     },
     "output_type": "display_data"
    },
    {
     "name": "stdout",
     "output_type": "stream",
     "text": [
      "Confusion matrix\n",
      "[[12855     0]\n",
      " [ 1905     0]]\n"
     ]
    },
    {
     "data": {
      "image/png": "[encoded data removed]",
      "text/plain": [
       "<Figure size 432x288 with 2 Axes>"
      ]
     },
     "metadata": {
      "needs_background": "light"
     },
     "output_type": "display_data"
    },
    {
     "name": "stdout",
     "output_type": "stream",
     "text": [
      "accuracy_score: 0.8709\n",
      "f1_score: 0.0\n",
      "recall_score: 0.0\n"
     ]
    }
   ],
   "source": [
    "model_0 = LogisticRegression(solver='liblinear')\n",
    "model_0.fit(X_train, y_train)\n",
    "y_pred = model_0.predict(X_test)\n",
    "\n",
    "probs = model_0.predict_proba(X_test)\n",
    "probs = probs[:,1]\n",
    "show_roc_auc(y_test,probs)\n",
    "\n",
    "show_confusion_matrix(model_0,X_test,y_test)\n",
    "\n",
    "print('accuracy_score: {}'.format(np.round(accuracy_score(y_test, y_pred), 4)))\n",
    "\n",
    "print('f1_score: {}'.format(np.round(f1_score(y_test, y_pred), 4)))\n",
    "\n",
    "print('recall_score: {}'.format(np.round(recall_score(y_test, y_pred), 4)))"
   ]
  },
  {
   "cell_type": "markdown",
   "metadata": {
    "papermill": {
     "duration": 0.246413,
     "end_time": "2021-07-29T17:33:40.977213",
     "exception": false,
     "start_time": "2021-07-29T17:33:40.730800",
     "status": "completed"
    },
    "tags": []
   },
   "source": [
    "Значение ROC AUC 0.54.   \n",
    "Модель вообще не предсказала дефолтных клиетов."
   ]
  },
  {
   "cell_type": "markdown",
   "metadata": {
    "papermill": {
     "duration": 0.243669,
     "end_time": "2021-07-29T17:33:41.462802",
     "exception": false,
     "start_time": "2021-07-29T17:33:41.219133",
     "status": "completed"
    },
    "tags": []
   },
   "source": [
    "# 4. Доп. обработка данных"
   ]
  },
  {
   "cell_type": "markdown",
   "metadata": {},
   "source": [
    "### 4.1 Корреляция числовых признаков между собой и их значимость."
   ]
  },
  {
   "cell_type": "code",
   "execution_count": 15,
   "metadata": {
    "execution": {
     "iopub.execute_input": "2021-07-29T17:33:43.589581Z",
     "iopub.status.busy": "2021-07-29T17:33:43.588693Z",
     "iopub.status.idle": "2021-07-29T17:33:44.376857Z",
     "shell.execute_reply": "2021-07-29T17:33:44.377371Z",
     "shell.execute_reply.started": "2021-07-29T17:22:15.669362Z"
    },
    "papermill": {
     "duration": 1.051745,
     "end_time": "2021-07-29T17:33:44.377547",
     "exception": false,
     "start_time": "2021-07-29T17:33:43.325802",
     "status": "completed"
    },
    "tags": []
   },
   "outputs": [
    {
     "data": {
      "text/plain": [
       "<AxesSubplot:>"
      ]
     },
     "execution_count": 15,
     "metadata": {},
     "output_type": "execute_result"
    },
    {
     "data": {
      "image/png": "[encoded data removed]",
      "text/plain": [
       "<Figure size 648x432 with 2 Axes>"
      ]
     },
     "metadata": {
      "needs_background": "light"
     },
     "output_type": "display_data"
    }
   ],
   "source": [
    "plt.figure(figsize=(9, 6))\n",
    "sns.heatmap(df[num_cols].corr().abs(), vmin=0, vmax=1,\n",
    "            annot=True, fmt=\".2f\", cmap=\"YlGnBu\")"
   ]
  },
  {
   "cell_type": "code",
   "execution_count": 16,
   "metadata": {},
   "outputs": [
    {
     "data": {
      "text/plain": [
       "<AxesSubplot:>"
      ]
     },
     "execution_count": 16,
     "metadata": {},
     "output_type": "execute_result"
    },
    {
     "data": {
      "image/png": "[encoded data removed]",
      "text/plain": [
       "<Figure size 432x288 with 1 Axes>"
      ]
     },
     "metadata": {
      "needs_background": "light"
     },
     "output_type": "display_data"
    }
   ],
   "source": [
    "temp = df[df['train'] == 1]\n",
    "imp_num = pd.Series(f_classif(temp[num_cols], temp['default'])[0], index = num_cols)\n",
    "imp_num.sort_values(inplace = True)\n",
    "imp_num.plot(kind = 'barh')"
   ]
  },
  {
   "cell_type": "markdown",
   "metadata": {
    "papermill": {
     "duration": 0.244705,
     "end_time": "2021-07-29T17:33:44.876885",
     "exception": false,
     "start_time": "2021-07-29T17:33:44.632180",
     "status": "completed"
    },
    "tags": []
   },
   "source": [
    "Коррелируют days/month.  \n",
    "Убираем month, day и weekday - не оказывают значимого влияния на целевую переменную."
   ]
  },
  {
   "cell_type": "code",
   "execution_count": 17,
   "metadata": {
    "execution": {
     "iopub.execute_input": "2021-07-29T17:33:46.685433Z",
     "iopub.status.busy": "2021-07-29T17:33:46.684747Z",
     "iopub.status.idle": "2021-07-29T17:33:46.687820Z",
     "shell.execute_reply": "2021-07-29T17:33:46.687244Z",
     "shell.execute_reply.started": "2021-07-29T17:22:16.642905Z"
    },
    "papermill": {
     "duration": 0.264486,
     "end_time": "2021-07-29T17:33:46.687970",
     "exception": false,
     "start_time": "2021-07-29T17:33:46.423484",
     "status": "completed"
    },
    "tags": []
   },
   "outputs": [],
   "source": [
    "df.drop(['month','day','weekday'],axis=1,inplace=True)\n",
    "num_cols.remove('month')\n",
    "num_cols.remove('day')\n",
    "num_cols.remove('weekday')"
   ]
  },
  {
   "cell_type": "markdown",
   "metadata": {
    "papermill": {
     "duration": 0.242393,
     "end_time": "2021-07-29T17:33:47.183805",
     "exception": false,
     "start_time": "2021-07-29T17:33:46.941412",
     "status": "completed"
    },
    "tags": []
   },
   "source": [
    "### 4.2 Корреляция биномаильных признаков."
   ]
  },
  {
   "cell_type": "code",
   "execution_count": 18,
   "metadata": {
    "execution": {
     "iopub.execute_input": "2021-07-29T17:33:47.691347Z",
     "iopub.status.busy": "2021-07-29T17:33:47.690623Z",
     "iopub.status.idle": "2021-07-29T17:33:48.022423Z",
     "shell.execute_reply": "2021-07-29T17:33:48.021866Z",
     "shell.execute_reply.started": "2021-07-29T17:22:16.656171Z"
    },
    "papermill": {
     "duration": 0.592467,
     "end_time": "2021-07-29T17:33:48.022566",
     "exception": false,
     "start_time": "2021-07-29T17:33:47.430099",
     "status": "completed"
    },
    "tags": []
   },
   "outputs": [
    {
     "data": {
      "text/plain": [
       "<AxesSubplot:>"
      ]
     },
     "execution_count": 18,
     "metadata": {},
     "output_type": "execute_result"
    },
    {
     "data": {
      "image/png": "[encoded data removed]",
      "text/plain": [
       "<Figure size 648x432 with 2 Axes>"
      ]
     },
     "metadata": {
      "needs_background": "light"
     },
     "output_type": "display_data"
    }
   ],
   "source": [
    "plt.figure(figsize=(9, 6))\n",
    "sns.heatmap(df[bin_cols].corr().abs(), vmin=0, vmax=1,\n",
    "            annot=True, fmt=\".2f\", cmap=\"YlGnBu\")"
   ]
  },
  {
   "cell_type": "markdown",
   "metadata": {
    "papermill": {
     "duration": 0.247803,
     "end_time": "2021-07-29T17:33:48.517883",
     "exception": false,
     "start_time": "2021-07-29T17:33:48.270080",
     "status": "completed"
    },
    "tags": []
   },
   "source": [
    "Корреляция признаков car и car_type. объединим в один."
   ]
  },
  {
   "cell_type": "code",
   "execution_count": 19,
   "metadata": {
    "execution": {
     "iopub.execute_input": "2021-07-29T17:33:49.020305Z",
     "iopub.status.busy": "2021-07-29T17:33:49.019325Z",
     "iopub.status.idle": "2021-07-29T17:33:51.044757Z",
     "shell.execute_reply": "2021-07-29T17:33:51.045321Z",
     "shell.execute_reply.started": "2021-07-29T17:22:16.935652Z"
    },
    "papermill": {
     "duration": 2.271351,
     "end_time": "2021-07-29T17:33:51.045531",
     "exception": false,
     "start_time": "2021-07-29T17:33:48.774180",
     "status": "completed"
    },
    "tags": []
   },
   "outputs": [],
   "source": [
    "df['car'] = df.apply(lambda row: combining_types_car(row), axis=1)\n",
    "df.drop(['car_type'],axis=1,inplace=True)\n",
    "bin_cols.remove('car_type')"
   ]
  },
  {
   "cell_type": "code",
   "execution_count": null,
   "metadata": {},
   "outputs": [],
   "source": []
  },
  {
   "cell_type": "code",
   "execution_count": null,
   "metadata": {
    "execution": {
     "iopub.execute_input": "2021-07-29T17:33:51.554189Z",
     "iopub.status.busy": "2021-07-29T17:33:51.553509Z",
     "iopub.status.idle": "2021-07-29T17:33:51.560053Z",
     "shell.execute_reply": "2021-07-29T17:33:51.559517Z",
     "shell.execute_reply.started": "2021-07-29T17:22:18.260733Z"
    },
    "papermill": {
     "duration": 0.266256,
     "end_time": "2021-07-29T17:33:51.560207",
     "exception": false,
     "start_time": "2021-07-29T17:33:51.293951",
     "status": "completed"
    },
    "tags": []
   },
   "outputs": [],
   "source": []
  },
  {
   "cell_type": "markdown",
   "metadata": {
    "papermill": {
     "duration": 0.245308,
     "end_time": "2021-07-29T17:33:52.048850",
     "exception": false,
     "start_time": "2021-07-29T17:33:51.803542",
     "status": "completed"
    },
    "tags": []
   },
   "source": [
    "### 4.3 Корреляция категориальных признаков."
   ]
  },
  {
   "cell_type": "code",
   "execution_count": 20,
   "metadata": {
    "execution": {
     "iopub.execute_input": "2021-07-29T17:33:52.563365Z",
     "iopub.status.busy": "2021-07-29T17:33:52.561037Z",
     "iopub.status.idle": "2021-07-29T17:33:52.896073Z",
     "shell.execute_reply": "2021-07-29T17:33:52.895442Z",
     "shell.execute_reply.started": "2021-07-29T17:22:18.272898Z"
    },
    "papermill": {
     "duration": 0.599667,
     "end_time": "2021-07-29T17:33:52.896248",
     "exception": false,
     "start_time": "2021-07-29T17:33:52.296581",
     "status": "completed"
    },
    "tags": []
   },
   "outputs": [
    {
     "data": {
      "text/plain": [
       "<AxesSubplot:>"
      ]
     },
     "execution_count": 20,
     "metadata": {},
     "output_type": "execute_result"
    },
    {
     "data": {
      "image/png": "[encoded data removed]",
      "text/plain": [
       "<Figure size 648x432 with 2 Axes>"
      ]
     },
     "metadata": {
      "needs_background": "light"
     },
     "output_type": "display_data"
    }
   ],
   "source": [
    "plt.figure(figsize=(9, 6))\n",
    "sns.heatmap(df[cat_cols].corr().abs(), vmin=0, vmax=1,\n",
    "            annot=True, fmt=\".2f\", cmap=\"YlGnBu\")"
   ]
  },
  {
   "cell_type": "markdown",
   "metadata": {
    "papermill": {
     "duration": 0.250823,
     "end_time": "2021-07-29T17:33:53.403076",
     "exception": false,
     "start_time": "2021-07-29T17:33:53.152253",
     "status": "completed"
    },
    "tags": []
   },
   "source": [
    "Корреляция между пизнаками work_address/home_address и sna/first_time.  \n",
    "Объеденим адрес."
   ]
  },
  {
   "cell_type": "code",
   "execution_count": 21,
   "metadata": {
    "execution": {
     "iopub.execute_input": "2021-07-29T17:33:53.918081Z",
     "iopub.status.busy": "2021-07-29T17:33:53.917353Z",
     "iopub.status.idle": "2021-07-29T17:33:55.988398Z",
     "shell.execute_reply": "2021-07-29T17:33:55.987863Z",
     "shell.execute_reply.started": "2021-07-29T17:22:18.558815Z"
    },
    "papermill": {
     "duration": 2.337665,
     "end_time": "2021-07-29T17:33:55.988551",
     "exception": false,
     "start_time": "2021-07-29T17:33:53.650886",
     "status": "completed"
    },
    "tags": []
   },
   "outputs": [],
   "source": [
    "df['address'] = df.apply(lambda row: combining_types_adr(row), axis=1)\n",
    "\n",
    "cat_cols.append('address')\n",
    "\n",
    "cat_cols.remove('home_address')\n",
    "df.drop(['home_address'], axis=1, inplace=True)\n",
    "\n",
    "cat_cols.remove('work_address')\n",
    "df.drop(['work_address'], axis=1, inplace=True)"
   ]
  },
  {
   "cell_type": "markdown",
   "metadata": {},
   "source": [
    "Разделим категориальные признаки по столбцам"
   ]
  },
  {
   "cell_type": "code",
   "execution_count": 22,
   "metadata": {
    "execution": {
     "iopub.execute_input": "2021-07-29T17:33:56.499872Z",
     "iopub.status.busy": "2021-07-29T17:33:56.499071Z",
     "iopub.status.idle": "2021-07-29T17:33:56.547209Z",
     "shell.execute_reply": "2021-07-29T17:33:56.547798Z",
     "shell.execute_reply.started": "2021-07-29T17:22:19.910688Z"
    },
    "papermill": {
     "duration": 0.309989,
     "end_time": "2021-07-29T17:33:56.548002",
     "exception": false,
     "start_time": "2021-07-29T17:33:56.238013",
     "status": "completed"
    },
    "tags": []
   },
   "outputs": [],
   "source": [
    "df = pd.get_dummies(\n",
    "    df, columns=['education', 'region_rating', 'sna', 'first_time', 'address','sex', 'car', 'good_work', 'foreign_passport'], dummy_na=False)"
   ]
  },
  {
   "cell_type": "markdown",
   "metadata": {
    "papermill": {
     "duration": 0.268903,
     "end_time": "2021-07-29T17:33:57.078987",
     "exception": false,
     "start_time": "2021-07-29T17:33:56.810084",
     "status": "completed"
    },
    "tags": []
   },
   "source": [
    "### 4.4 Числовые признаки"
   ]
  },
  {
   "cell_type": "code",
   "execution_count": 23,
   "metadata": {
    "execution": {
     "iopub.execute_input": "2021-07-29T17:33:57.603050Z",
     "iopub.status.busy": "2021-07-29T17:33:57.602386Z",
     "iopub.status.idle": "2021-07-29T17:33:57.656815Z",
     "shell.execute_reply": "2021-07-29T17:33:57.656230Z",
     "shell.execute_reply.started": "2021-07-29T17:22:19.950040Z"
    },
    "papermill": {
     "duration": 0.31313,
     "end_time": "2021-07-29T17:33:57.656967",
     "exception": false,
     "start_time": "2021-07-29T17:33:57.343837",
     "status": "completed"
    },
    "tags": []
   },
   "outputs": [],
   "source": [
    "train = df[df['train']==1].drop(['train'],axis=1)\n",
    "test = df[df['train']==0].drop(['train','default'],axis=1)"
   ]
  },
  {
   "cell_type": "markdown",
   "metadata": {},
   "source": [
    "#### 4.4.1 Стоблец Аge"
   ]
  },
  {
   "cell_type": "code",
   "execution_count": 24,
   "metadata": {
    "execution": {
     "iopub.execute_input": "2021-07-29T17:33:58.165586Z",
     "iopub.status.busy": "2021-07-29T17:33:58.164826Z",
     "iopub.status.idle": "2021-07-29T17:33:58.739635Z",
     "shell.execute_reply": "2021-07-29T17:33:58.739015Z",
     "shell.execute_reply.started": "2021-07-29T17:22:19.998508Z"
    },
    "papermill": {
     "duration": 0.833651,
     "end_time": "2021-07-29T17:33:58.739799",
     "exception": false,
     "start_time": "2021-07-29T17:33:57.906148",
     "status": "completed"
    },
    "tags": []
   },
   "outputs": [
    {
     "data": {
      "text/html": [
       "<div>\n",
       "<style scoped>\n",
       "    .dataframe tbody tr th:only-of-type {\n",
       "        vertical-align: middle;\n",
       "    }\n",
       "\n",
       "    .dataframe tbody tr th {\n",
       "        vertical-align: top;\n",
       "    }\n",
       "\n",
       "    .dataframe thead th {\n",
       "        text-align: right;\n",
       "    }\n",
       "</style>\n",
       "<table border=\"1\" class=\"dataframe\">\n",
       "  <thead>\n",
       "    <tr style=\"text-align: right;\">\n",
       "      <th></th>\n",
       "      <th>age</th>\n",
       "    </tr>\n",
       "  </thead>\n",
       "  <tbody>\n",
       "    <tr>\n",
       "      <th>31</th>\n",
       "      <td>0.036952</td>\n",
       "    </tr>\n",
       "    <tr>\n",
       "      <th>28</th>\n",
       "      <td>0.036654</td>\n",
       "    </tr>\n",
       "    <tr>\n",
       "      <th>30</th>\n",
       "      <td>0.036491</td>\n",
       "    </tr>\n",
       "    <tr>\n",
       "      <th>29</th>\n",
       "      <td>0.036030</td>\n",
       "    </tr>\n",
       "    <tr>\n",
       "      <th>27</th>\n",
       "      <td>0.035841</td>\n",
       "    </tr>\n",
       "    <tr>\n",
       "      <th>...</th>\n",
       "      <td>...</td>\n",
       "    </tr>\n",
       "    <tr>\n",
       "      <th>68</th>\n",
       "      <td>0.002236</td>\n",
       "    </tr>\n",
       "    <tr>\n",
       "      <th>69</th>\n",
       "      <td>0.001098</td>\n",
       "    </tr>\n",
       "    <tr>\n",
       "      <th>70</th>\n",
       "      <td>0.000434</td>\n",
       "    </tr>\n",
       "    <tr>\n",
       "      <th>71</th>\n",
       "      <td>0.000041</td>\n",
       "    </tr>\n",
       "    <tr>\n",
       "      <th>72</th>\n",
       "      <td>0.000027</td>\n",
       "    </tr>\n",
       "  </tbody>\n",
       "</table>\n",
       "<p>52 rows × 1 columns</p>\n",
       "</div>"
      ],
      "text/plain": [
       "         age\n",
       "31  0.036952\n",
       "28  0.036654\n",
       "30  0.036491\n",
       "29  0.036030\n",
       "27  0.035841\n",
       "..       ...\n",
       "68  0.002236\n",
       "69  0.001098\n",
       "70  0.000434\n",
       "71  0.000041\n",
       "72  0.000027\n",
       "\n",
       "[52 rows x 1 columns]"
      ]
     },
     "metadata": {},
     "output_type": "display_data"
    },
    {
     "data": {
      "image/png": "[encoded data removed]",
      "text/plain": [
       "<Figure size 432x288 with 1 Axes>"
      ]
     },
     "metadata": {
      "needs_background": "light"
     },
     "output_type": "display_data"
    },
    {
     "data": {
      "image/png": "[encoded data removed]",
      "text/plain": [
       "<Figure size 432x288 with 1 Axes>"
      ]
     },
     "metadata": {
      "needs_background": "light"
     },
     "output_type": "display_data"
    }
   ],
   "source": [
    "\n",
    "num_column_analysis('age')"
   ]
  },
  {
   "cell_type": "markdown",
   "metadata": {
    "papermill": {
     "duration": 0.255598,
     "end_time": "2021-07-29T17:33:59.251342",
     "exception": false,
     "start_time": "2021-07-29T17:33:58.995744",
     "status": "completed"
    },
    "tags": []
   },
   "source": [
    "Выбросов нет.\n",
    "Распределение значений смещено в право. \n",
    "Прологарифмируем этот признак."
   ]
  },
  {
   "cell_type": "code",
   "execution_count": 25,
   "metadata": {
    "execution": {
     "iopub.execute_input": "2021-07-29T17:33:59.756292Z",
     "iopub.status.busy": "2021-07-29T17:33:59.755354Z",
     "iopub.status.idle": "2021-07-29T17:33:59.766290Z",
     "shell.execute_reply": "2021-07-29T17:33:59.765615Z",
     "shell.execute_reply.started": "2021-07-29T17:22:20.406321Z"
    },
    "papermill": {
     "duration": 0.270032,
     "end_time": "2021-07-29T17:33:59.766435",
     "exception": false,
     "start_time": "2021-07-29T17:33:59.496403",
     "status": "completed"
    },
    "tags": []
   },
   "outputs": [],
   "source": [
    "train['age'] = np.log(train['age'] + 1)\n",
    "test['age'] = np.log(test['age'] + 1)"
   ]
  },
  {
   "cell_type": "markdown",
   "metadata": {},
   "source": [
    "#### 4.4.1 Стоблец decline_app_cnt"
   ]
  },
  {
   "cell_type": "code",
   "execution_count": 26,
   "metadata": {
    "execution": {
     "iopub.execute_input": "2021-07-29T17:34:00.275545Z",
     "iopub.status.busy": "2021-07-29T17:34:00.274512Z",
     "iopub.status.idle": "2021-07-29T17:34:00.875643Z",
     "shell.execute_reply": "2021-07-29T17:34:00.874975Z",
     "shell.execute_reply.started": "2021-07-29T17:22:20.422620Z"
    },
    "papermill": {
     "duration": 0.854844,
     "end_time": "2021-07-29T17:34:00.875816",
     "exception": false,
     "start_time": "2021-07-29T17:34:00.020972",
     "status": "completed"
    },
    "tags": []
   },
   "outputs": [
    {
     "data": {
      "text/html": [
       "<div>\n",
       "<style scoped>\n",
       "    .dataframe tbody tr th:only-of-type {\n",
       "        vertical-align: middle;\n",
       "    }\n",
       "\n",
       "    .dataframe tbody tr th {\n",
       "        vertical-align: top;\n",
       "    }\n",
       "\n",
       "    .dataframe thead th {\n",
       "        text-align: right;\n",
       "    }\n",
       "</style>\n",
       "<table border=\"1\" class=\"dataframe\">\n",
       "  <thead>\n",
       "    <tr style=\"text-align: right;\">\n",
       "      <th></th>\n",
       "      <th>decline_app_cnt</th>\n",
       "    </tr>\n",
       "  </thead>\n",
       "  <tbody>\n",
       "    <tr>\n",
       "      <th>0</th>\n",
       "      <td>0.829469</td>\n",
       "    </tr>\n",
       "    <tr>\n",
       "      <th>1</th>\n",
       "      <td>0.113782</td>\n",
       "    </tr>\n",
       "    <tr>\n",
       "      <th>2</th>\n",
       "      <td>0.033442</td>\n",
       "    </tr>\n",
       "    <tr>\n",
       "      <th>3</th>\n",
       "      <td>0.012236</td>\n",
       "    </tr>\n",
       "    <tr>\n",
       "      <th>4</th>\n",
       "      <td>0.005610</td>\n",
       "    </tr>\n",
       "    <tr>\n",
       "      <th>5</th>\n",
       "      <td>0.002236</td>\n",
       "    </tr>\n",
       "    <tr>\n",
       "      <th>6</th>\n",
       "      <td>0.001531</td>\n",
       "    </tr>\n",
       "    <tr>\n",
       "      <th>7</th>\n",
       "      <td>0.000650</td>\n",
       "    </tr>\n",
       "    <tr>\n",
       "      <th>9</th>\n",
       "      <td>0.000325</td>\n",
       "    </tr>\n",
       "    <tr>\n",
       "      <th>8</th>\n",
       "      <td>0.000257</td>\n",
       "    </tr>\n",
       "    <tr>\n",
       "      <th>10</th>\n",
       "      <td>0.000149</td>\n",
       "    </tr>\n",
       "    <tr>\n",
       "      <th>11</th>\n",
       "      <td>0.000122</td>\n",
       "    </tr>\n",
       "    <tr>\n",
       "      <th>13</th>\n",
       "      <td>0.000041</td>\n",
       "    </tr>\n",
       "    <tr>\n",
       "      <th>12</th>\n",
       "      <td>0.000027</td>\n",
       "    </tr>\n",
       "    <tr>\n",
       "      <th>14</th>\n",
       "      <td>0.000027</td>\n",
       "    </tr>\n",
       "    <tr>\n",
       "      <th>16</th>\n",
       "      <td>0.000027</td>\n",
       "    </tr>\n",
       "    <tr>\n",
       "      <th>24</th>\n",
       "      <td>0.000014</td>\n",
       "    </tr>\n",
       "    <tr>\n",
       "      <th>15</th>\n",
       "      <td>0.000014</td>\n",
       "    </tr>\n",
       "    <tr>\n",
       "      <th>19</th>\n",
       "      <td>0.000014</td>\n",
       "    </tr>\n",
       "    <tr>\n",
       "      <th>22</th>\n",
       "      <td>0.000014</td>\n",
       "    </tr>\n",
       "    <tr>\n",
       "      <th>33</th>\n",
       "      <td>0.000014</td>\n",
       "    </tr>\n",
       "  </tbody>\n",
       "</table>\n",
       "</div>"
      ],
      "text/plain": [
       "    decline_app_cnt\n",
       "0          0.829469\n",
       "1          0.113782\n",
       "2          0.033442\n",
       "3          0.012236\n",
       "4          0.005610\n",
       "5          0.002236\n",
       "6          0.001531\n",
       "7          0.000650\n",
       "9          0.000325\n",
       "8          0.000257\n",
       "10         0.000149\n",
       "11         0.000122\n",
       "13         0.000041\n",
       "12         0.000027\n",
       "14         0.000027\n",
       "16         0.000027\n",
       "24         0.000014\n",
       "15         0.000014\n",
       "19         0.000014\n",
       "22         0.000014\n",
       "33         0.000014"
      ]
     },
     "metadata": {},
     "output_type": "display_data"
    },
    {
     "data": {
      "image/png": "[encoded data removed]",
      "text/plain": [
       "<Figure size 432x288 with 1 Axes>"
      ]
     },
     "metadata": {
      "needs_background": "light"
     },
     "output_type": "display_data"
    },
    {
     "data": {
      "image/png": "[encoded data removed]",
      "text/plain": [
       "<Figure size 432x288 with 1 Axes>"
      ]
     },
     "metadata": {
      "needs_background": "light"
     },
     "output_type": "display_data"
    }
   ],
   "source": [
    "num_column_analysis('decline_app_cnt')"
   ]
  },
  {
   "cell_type": "markdown",
   "metadata": {
    "papermill": {
     "duration": 0.251294,
     "end_time": "2021-07-29T17:34:01.381722",
     "exception": false,
     "start_time": "2021-07-29T17:34:01.130428",
     "status": "completed"
    },
    "tags": []
   },
   "source": [
    "Есть выбросы.  \n",
    "Это значения больше 4, их сумма меньше 1%. Заменим их нам на 4."
   ]
  },
  {
   "cell_type": "code",
   "execution_count": 27,
   "metadata": {
    "execution": {
     "iopub.execute_input": "2021-07-29T17:34:01.907514Z",
     "iopub.status.busy": "2021-07-29T17:34:01.894620Z",
     "iopub.status.idle": "2021-07-29T17:34:01.945843Z",
     "shell.execute_reply": "2021-07-29T17:34:01.945267Z",
     "shell.execute_reply.started": "2021-07-29T17:22:21.298290Z"
    },
    "papermill": {
     "duration": 0.311142,
     "end_time": "2021-07-29T17:34:01.946013",
     "exception": false,
     "start_time": "2021-07-29T17:34:01.634871",
     "status": "completed"
    },
    "tags": []
   },
   "outputs": [],
   "source": [
    "train['decline_app_cnt']=train['decline_app_cnt'].apply(lambda x: x if x<=4 else 4)"
   ]
  },
  {
   "cell_type": "markdown",
   "metadata": {},
   "source": [
    "#### 4.4.2 Cтолбец score_bki"
   ]
  },
  {
   "cell_type": "code",
   "execution_count": 28,
   "metadata": {
    "execution": {
     "iopub.execute_input": "2021-07-29T17:34:02.448555Z",
     "iopub.status.busy": "2021-07-29T17:34:02.447543Z",
     "iopub.status.idle": "2021-07-29T17:34:03.041214Z",
     "shell.execute_reply": "2021-07-29T17:34:03.040557Z",
     "shell.execute_reply.started": "2021-07-29T17:22:21.359237Z"
    },
    "papermill": {
     "duration": 0.847322,
     "end_time": "2021-07-29T17:34:03.041355",
     "exception": false,
     "start_time": "2021-07-29T17:34:02.194033",
     "status": "completed"
    },
    "tags": []
   },
   "outputs": [
    {
     "data": {
      "text/html": [
       "<div>\n",
       "<style scoped>\n",
       "    .dataframe tbody tr th:only-of-type {\n",
       "        vertical-align: middle;\n",
       "    }\n",
       "\n",
       "    .dataframe tbody tr th {\n",
       "        vertical-align: top;\n",
       "    }\n",
       "\n",
       "    .dataframe thead th {\n",
       "        text-align: right;\n",
       "    }\n",
       "</style>\n",
       "<table border=\"1\" class=\"dataframe\">\n",
       "  <thead>\n",
       "    <tr style=\"text-align: right;\">\n",
       "      <th></th>\n",
       "      <th>score_bki</th>\n",
       "    </tr>\n",
       "  </thead>\n",
       "  <tbody>\n",
       "    <tr>\n",
       "      <th>-1.775263</th>\n",
       "      <td>0.004770</td>\n",
       "    </tr>\n",
       "    <tr>\n",
       "      <th>-2.225004</th>\n",
       "      <td>0.004011</td>\n",
       "    </tr>\n",
       "    <tr>\n",
       "      <th>-2.104211</th>\n",
       "      <td>0.003902</td>\n",
       "    </tr>\n",
       "    <tr>\n",
       "      <th>-2.169664</th>\n",
       "      <td>0.003496</td>\n",
       "    </tr>\n",
       "    <tr>\n",
       "      <th>-1.920823</th>\n",
       "      <td>0.002507</td>\n",
       "    </tr>\n",
       "    <tr>\n",
       "      <th>...</th>\n",
       "      <td>...</td>\n",
       "    </tr>\n",
       "    <tr>\n",
       "      <th>-1.243395</th>\n",
       "      <td>0.000014</td>\n",
       "    </tr>\n",
       "    <tr>\n",
       "      <th>-1.732555</th>\n",
       "      <td>0.000014</td>\n",
       "    </tr>\n",
       "    <tr>\n",
       "      <th>-1.904082</th>\n",
       "      <td>0.000014</td>\n",
       "    </tr>\n",
       "    <tr>\n",
       "      <th>-2.386521</th>\n",
       "      <td>0.000014</td>\n",
       "    </tr>\n",
       "    <tr>\n",
       "      <th>-2.729079</th>\n",
       "      <td>0.000014</td>\n",
       "    </tr>\n",
       "  </tbody>\n",
       "</table>\n",
       "<p>69096 rows × 1 columns</p>\n",
       "</div>"
      ],
      "text/plain": [
       "           score_bki\n",
       "-1.775263   0.004770\n",
       "-2.225004   0.004011\n",
       "-2.104211   0.003902\n",
       "-2.169664   0.003496\n",
       "-1.920823   0.002507\n",
       "...              ...\n",
       "-1.243395   0.000014\n",
       "-1.732555   0.000014\n",
       "-1.904082   0.000014\n",
       "-2.386521   0.000014\n",
       "-2.729079   0.000014\n",
       "\n",
       "[69096 rows x 1 columns]"
      ]
     },
     "metadata": {},
     "output_type": "display_data"
    },
    {
     "data": {
      "image/png": "[encoded data removed]",
      "text/plain": [
       "<Figure size 432x288 with 1 Axes>"
      ]
     },
     "metadata": {
      "needs_background": "light"
     },
     "output_type": "display_data"
    },
    {
     "data": {
      "image/png": "[encoded data removed]",
      "text/plain": [
       "<Figure size 432x288 with 1 Axes>"
      ]
     },
     "metadata": {
      "needs_background": "light"
     },
     "output_type": "display_data"
    }
   ],
   "source": [
    "num_column_analysis('score_bki')"
   ]
  },
  {
   "cell_type": "markdown",
   "metadata": {
    "papermill": {
     "duration": 0.253156,
     "end_time": "2021-07-29T17:34:03.549825",
     "exception": false,
     "start_time": "2021-07-29T17:34:03.296669",
     "status": "completed"
    },
    "tags": []
   },
   "source": [
    "Распределение нормальное. Выбросы хоть и есть, но их пока можно оставить."
   ]
  },
  {
   "cell_type": "markdown",
   "metadata": {},
   "source": [
    "#### 4.4.3 Столбец bki_request_cnt"
   ]
  },
  {
   "cell_type": "code",
   "execution_count": 29,
   "metadata": {
    "execution": {
     "iopub.execute_input": "2021-07-29T17:34:04.063919Z",
     "iopub.status.busy": "2021-07-29T17:34:04.062896Z",
     "iopub.status.idle": "2021-07-29T17:34:04.650195Z",
     "shell.execute_reply": "2021-07-29T17:34:04.649584Z",
     "shell.execute_reply.started": "2021-07-29T17:22:21.933741Z"
    },
    "papermill": {
     "duration": 0.846347,
     "end_time": "2021-07-29T17:34:04.650354",
     "exception": false,
     "start_time": "2021-07-29T17:34:03.804007",
     "status": "completed"
    },
    "tags": []
   },
   "outputs": [
    {
     "data": {
      "text/html": [
       "<div>\n",
       "<style scoped>\n",
       "    .dataframe tbody tr th:only-of-type {\n",
       "        vertical-align: middle;\n",
       "    }\n",
       "\n",
       "    .dataframe tbody tr th {\n",
       "        vertical-align: top;\n",
       "    }\n",
       "\n",
       "    .dataframe thead th {\n",
       "        text-align: right;\n",
       "    }\n",
       "</style>\n",
       "<table border=\"1\" class=\"dataframe\">\n",
       "  <thead>\n",
       "    <tr style=\"text-align: right;\">\n",
       "      <th></th>\n",
       "      <th>bki_request_cnt</th>\n",
       "    </tr>\n",
       "  </thead>\n",
       "  <tbody>\n",
       "    <tr>\n",
       "      <th>0</th>\n",
       "      <td>0.262619</td>\n",
       "    </tr>\n",
       "    <tr>\n",
       "      <th>1</th>\n",
       "      <td>0.247646</td>\n",
       "    </tr>\n",
       "    <tr>\n",
       "      <th>2</th>\n",
       "      <td>0.186303</td>\n",
       "    </tr>\n",
       "    <tr>\n",
       "      <th>3</th>\n",
       "      <td>0.124487</td>\n",
       "    </tr>\n",
       "    <tr>\n",
       "      <th>4</th>\n",
       "      <td>0.076248</td>\n",
       "    </tr>\n",
       "    <tr>\n",
       "      <th>5</th>\n",
       "      <td>0.044282</td>\n",
       "    </tr>\n",
       "    <tr>\n",
       "      <th>6</th>\n",
       "      <td>0.023090</td>\n",
       "    </tr>\n",
       "    <tr>\n",
       "      <th>7</th>\n",
       "      <td>0.011545</td>\n",
       "    </tr>\n",
       "    <tr>\n",
       "      <th>8</th>\n",
       "      <td>0.006884</td>\n",
       "    </tr>\n",
       "    <tr>\n",
       "      <th>9</th>\n",
       "      <td>0.004052</td>\n",
       "    </tr>\n",
       "    <tr>\n",
       "      <th>10</th>\n",
       "      <td>0.003049</td>\n",
       "    </tr>\n",
       "    <tr>\n",
       "      <th>11</th>\n",
       "      <td>0.002547</td>\n",
       "    </tr>\n",
       "    <tr>\n",
       "      <th>12</th>\n",
       "      <td>0.001951</td>\n",
       "    </tr>\n",
       "    <tr>\n",
       "      <th>13</th>\n",
       "      <td>0.001274</td>\n",
       "    </tr>\n",
       "    <tr>\n",
       "      <th>14</th>\n",
       "      <td>0.001165</td>\n",
       "    </tr>\n",
       "    <tr>\n",
       "      <th>15</th>\n",
       "      <td>0.000732</td>\n",
       "    </tr>\n",
       "    <tr>\n",
       "      <th>16</th>\n",
       "      <td>0.000474</td>\n",
       "    </tr>\n",
       "    <tr>\n",
       "      <th>18</th>\n",
       "      <td>0.000298</td>\n",
       "    </tr>\n",
       "    <tr>\n",
       "      <th>17</th>\n",
       "      <td>0.000257</td>\n",
       "    </tr>\n",
       "    <tr>\n",
       "      <th>19</th>\n",
       "      <td>0.000244</td>\n",
       "    </tr>\n",
       "    <tr>\n",
       "      <th>21</th>\n",
       "      <td>0.000163</td>\n",
       "    </tr>\n",
       "    <tr>\n",
       "      <th>24</th>\n",
       "      <td>0.000149</td>\n",
       "    </tr>\n",
       "    <tr>\n",
       "      <th>20</th>\n",
       "      <td>0.000122</td>\n",
       "    </tr>\n",
       "    <tr>\n",
       "      <th>23</th>\n",
       "      <td>0.000095</td>\n",
       "    </tr>\n",
       "    <tr>\n",
       "      <th>28</th>\n",
       "      <td>0.000054</td>\n",
       "    </tr>\n",
       "    <tr>\n",
       "      <th>22</th>\n",
       "      <td>0.000054</td>\n",
       "    </tr>\n",
       "    <tr>\n",
       "      <th>32</th>\n",
       "      <td>0.000027</td>\n",
       "    </tr>\n",
       "    <tr>\n",
       "      <th>27</th>\n",
       "      <td>0.000027</td>\n",
       "    </tr>\n",
       "    <tr>\n",
       "      <th>26</th>\n",
       "      <td>0.000027</td>\n",
       "    </tr>\n",
       "    <tr>\n",
       "      <th>25</th>\n",
       "      <td>0.000027</td>\n",
       "    </tr>\n",
       "    <tr>\n",
       "      <th>46</th>\n",
       "      <td>0.000014</td>\n",
       "    </tr>\n",
       "    <tr>\n",
       "      <th>29</th>\n",
       "      <td>0.000014</td>\n",
       "    </tr>\n",
       "    <tr>\n",
       "      <th>33</th>\n",
       "      <td>0.000014</td>\n",
       "    </tr>\n",
       "    <tr>\n",
       "      <th>34</th>\n",
       "      <td>0.000014</td>\n",
       "    </tr>\n",
       "    <tr>\n",
       "      <th>36</th>\n",
       "      <td>0.000014</td>\n",
       "    </tr>\n",
       "    <tr>\n",
       "      <th>41</th>\n",
       "      <td>0.000014</td>\n",
       "    </tr>\n",
       "    <tr>\n",
       "      <th>45</th>\n",
       "      <td>0.000014</td>\n",
       "    </tr>\n",
       "    <tr>\n",
       "      <th>53</th>\n",
       "      <td>0.000014</td>\n",
       "    </tr>\n",
       "  </tbody>\n",
       "</table>\n",
       "</div>"
      ],
      "text/plain": [
       "    bki_request_cnt\n",
       "0          0.262619\n",
       "1          0.247646\n",
       "2          0.186303\n",
       "3          0.124487\n",
       "4          0.076248\n",
       "5          0.044282\n",
       "6          0.023090\n",
       "7          0.011545\n",
       "8          0.006884\n",
       "9          0.004052\n",
       "10         0.003049\n",
       "11         0.002547\n",
       "12         0.001951\n",
       "13         0.001274\n",
       "14         0.001165\n",
       "15         0.000732\n",
       "16         0.000474\n",
       "18         0.000298\n",
       "17         0.000257\n",
       "19         0.000244\n",
       "21         0.000163\n",
       "24         0.000149\n",
       "20         0.000122\n",
       "23         0.000095\n",
       "28         0.000054\n",
       "22         0.000054\n",
       "32         0.000027\n",
       "27         0.000027\n",
       "26         0.000027\n",
       "25         0.000027\n",
       "46         0.000014\n",
       "29         0.000014\n",
       "33         0.000014\n",
       "34         0.000014\n",
       "36         0.000014\n",
       "41         0.000014\n",
       "45         0.000014\n",
       "53         0.000014"
      ]
     },
     "metadata": {},
     "output_type": "display_data"
    },
    {
     "data": {
      "image/png": "[encoded data removed]",
      "text/plain": [
       "<Figure size 432x288 with 1 Axes>"
      ]
     },
     "metadata": {
      "needs_background": "light"
     },
     "output_type": "display_data"
    },
    {
     "data": {
      "image/png": "[encoded data removed]",
      "text/plain": [
       "<Figure size 432x288 with 1 Axes>"
      ]
     },
     "metadata": {
      "needs_background": "light"
     },
     "output_type": "display_data"
    }
   ],
   "source": [
    "num_column_analysis('bki_request_cnt')"
   ]
  },
  {
   "cell_type": "markdown",
   "metadata": {
    "papermill": {
     "duration": 0.258218,
     "end_time": "2021-07-29T17:34:05.169494",
     "exception": false,
     "start_time": "2021-07-29T17:34:04.911276",
     "status": "completed"
    },
    "tags": []
   },
   "source": [
    "Есть выбросы. Сумма значений выше 9 очень, меньше 1%. Все что больше 9 заменим на 9. Дополнительно прологарифмируем признак."
   ]
  },
  {
   "cell_type": "code",
   "execution_count": 30,
   "metadata": {
    "execution": {
     "iopub.execute_input": "2021-07-29T17:34:05.737528Z",
     "iopub.status.busy": "2021-07-29T17:34:05.731906Z",
     "iopub.status.idle": "2021-07-29T17:34:05.780578Z",
     "shell.execute_reply": "2021-07-29T17:34:05.779984Z",
     "shell.execute_reply.started": "2021-07-29T17:22:22.354129Z"
    },
    "papermill": {
     "duration": 0.348937,
     "end_time": "2021-07-29T17:34:05.780777",
     "exception": false,
     "start_time": "2021-07-29T17:34:05.431840",
     "status": "completed"
    },
    "tags": []
   },
   "outputs": [],
   "source": [
    "train['bki_request_cnt']=train['bki_request_cnt'].apply(lambda x: x if x<=9 else 9)"
   ]
  },
  {
   "cell_type": "code",
   "execution_count": 31,
   "metadata": {
    "execution": {
     "iopub.execute_input": "2021-07-29T17:34:06.305992Z",
     "iopub.status.busy": "2021-07-29T17:34:06.305061Z",
     "iopub.status.idle": "2021-07-29T17:34:06.315531Z",
     "shell.execute_reply": "2021-07-29T17:34:06.314543Z",
     "shell.execute_reply.started": "2021-07-29T17:22:22.415223Z"
    },
    "papermill": {
     "duration": 0.275872,
     "end_time": "2021-07-29T17:34:06.315761",
     "exception": false,
     "start_time": "2021-07-29T17:34:06.039889",
     "status": "completed"
    },
    "tags": []
   },
   "outputs": [],
   "source": [
    "train['bki_request_cnt'] = np.log(train['bki_request_cnt'] + 1)\n",
    "test['bki_request_cnt'] = np.log(test['bki_request_cnt'] + 1)"
   ]
  },
  {
   "cell_type": "markdown",
   "metadata": {},
   "source": [
    "#### 4.4.4 Столбец income"
   ]
  },
  {
   "cell_type": "code",
   "execution_count": 32,
   "metadata": {
    "execution": {
     "iopub.execute_input": "2021-07-29T17:34:06.844088Z",
     "iopub.status.busy": "2021-07-29T17:34:06.843372Z",
     "iopub.status.idle": "2021-07-29T17:34:07.438854Z",
     "shell.execute_reply": "2021-07-29T17:34:07.438179Z",
     "shell.execute_reply.started": "2021-07-29T17:22:22.430223Z"
    },
    "papermill": {
     "duration": 0.860248,
     "end_time": "2021-07-29T17:34:07.439005",
     "exception": false,
     "start_time": "2021-07-29T17:34:06.578757",
     "status": "completed"
    },
    "tags": []
   },
   "outputs": [
    {
     "data": {
      "text/html": [
       "<div>\n",
       "<style scoped>\n",
       "    .dataframe tbody tr th:only-of-type {\n",
       "        vertical-align: middle;\n",
       "    }\n",
       "\n",
       "    .dataframe tbody tr th {\n",
       "        vertical-align: top;\n",
       "    }\n",
       "\n",
       "    .dataframe thead th {\n",
       "        text-align: right;\n",
       "    }\n",
       "</style>\n",
       "<table border=\"1\" class=\"dataframe\">\n",
       "  <thead>\n",
       "    <tr style=\"text-align: right;\">\n",
       "      <th></th>\n",
       "      <th>income</th>\n",
       "    </tr>\n",
       "  </thead>\n",
       "  <tbody>\n",
       "    <tr>\n",
       "      <th>30000</th>\n",
       "      <td>0.094974</td>\n",
       "    </tr>\n",
       "    <tr>\n",
       "      <th>25000</th>\n",
       "      <td>0.082128</td>\n",
       "    </tr>\n",
       "    <tr>\n",
       "      <th>20000</th>\n",
       "      <td>0.074134</td>\n",
       "    </tr>\n",
       "    <tr>\n",
       "      <th>40000</th>\n",
       "      <td>0.066871</td>\n",
       "    </tr>\n",
       "    <tr>\n",
       "      <th>50000</th>\n",
       "      <td>0.060570</td>\n",
       "    </tr>\n",
       "    <tr>\n",
       "      <th>...</th>\n",
       "      <td>...</td>\n",
       "    </tr>\n",
       "    <tr>\n",
       "      <th>37600</th>\n",
       "      <td>0.000014</td>\n",
       "    </tr>\n",
       "    <tr>\n",
       "      <th>27350</th>\n",
       "      <td>0.000014</td>\n",
       "    </tr>\n",
       "    <tr>\n",
       "      <th>27478</th>\n",
       "      <td>0.000014</td>\n",
       "    </tr>\n",
       "    <tr>\n",
       "      <th>53800</th>\n",
       "      <td>0.000014</td>\n",
       "    </tr>\n",
       "    <tr>\n",
       "      <th>426000</th>\n",
       "      <td>0.000014</td>\n",
       "    </tr>\n",
       "  </tbody>\n",
       "</table>\n",
       "<p>966 rows × 1 columns</p>\n",
       "</div>"
      ],
      "text/plain": [
       "          income\n",
       "30000   0.094974\n",
       "25000   0.082128\n",
       "20000   0.074134\n",
       "40000   0.066871\n",
       "50000   0.060570\n",
       "...          ...\n",
       "37600   0.000014\n",
       "27350   0.000014\n",
       "27478   0.000014\n",
       "53800   0.000014\n",
       "426000  0.000014\n",
       "\n",
       "[966 rows x 1 columns]"
      ]
     },
     "metadata": {},
     "output_type": "display_data"
    },
    {
     "data": {
      "image/png": "[encoded data removed]",
      "text/plain": [
       "<Figure size 432x288 with 1 Axes>"
      ]
     },
     "metadata": {
      "needs_background": "light"
     },
     "output_type": "display_data"
    },
    {
     "data": {
      "image/png": "[encoded data removed]",
      "text/plain": [
       "<Figure size 432x288 with 1 Axes>"
      ]
     },
     "metadata": {
      "needs_background": "light"
     },
     "output_type": "display_data"
    }
   ],
   "source": [
    "num_column_analysis('income')"
   ]
  },
  {
   "cell_type": "markdown",
   "metadata": {
    "papermill": {
     "duration": 0.257964,
     "end_time": "2021-07-29T17:34:07.956969",
     "exception": false,
     "start_time": "2021-07-29T17:34:07.699005",
     "status": "completed"
    },
    "tags": []
   },
   "source": [
    "Здесь тоже наблюдаем много выбросов. Больше 200к получают малое количество клиентов. Приравняем их доход к 200к. Также прологорифмируем этот признак чтоб привести его к более нормальному распределению."
   ]
  },
  {
   "cell_type": "markdown",
   "metadata": {
    "papermill": {
     "duration": 0.258218,
     "end_time": "2021-07-29T17:34:05.169494",
     "exception": false,
     "start_time": "2021-07-29T17:34:04.911276",
     "status": "completed"
    },
    "tags": []
   },
   "source": [
    "Тут тоже наблюдаем выбросы. Т.к. их суммарная доля после значения 9 очень мала (меньше 1%), то все что больше 9 заменим на 9. Распределение здесь смещено в право, прологарифмируем этот признак."
   ]
  },
  {
   "cell_type": "code",
   "execution_count": 33,
   "metadata": {
    "execution": {
     "iopub.execute_input": "2021-07-29T17:34:08.497224Z",
     "iopub.status.busy": "2021-07-29T17:34:08.491322Z",
     "iopub.status.idle": "2021-07-29T17:34:08.542456Z",
     "shell.execute_reply": "2021-07-29T17:34:08.541896Z",
     "shell.execute_reply.started": "2021-07-29T17:22:22.870146Z"
    },
    "papermill": {
     "duration": 0.324368,
     "end_time": "2021-07-29T17:34:08.542653",
     "exception": false,
     "start_time": "2021-07-29T17:34:08.218285",
     "status": "completed"
    },
    "tags": []
   },
   "outputs": [],
   "source": [
    "train['income']=train['income'].apply(lambda x: x if x<=200000 else 200000)"
   ]
  },
  {
   "cell_type": "code",
   "execution_count": 34,
   "metadata": {
    "execution": {
     "iopub.execute_input": "2021-07-29T17:34:08.497224Z",
     "iopub.status.busy": "2021-07-29T17:34:08.491322Z",
     "iopub.status.idle": "2021-07-29T17:34:08.542456Z",
     "shell.execute_reply": "2021-07-29T17:34:08.541896Z",
     "shell.execute_reply.started": "2021-07-29T17:22:22.870146Z"
    },
    "papermill": {
     "duration": 0.324368,
     "end_time": "2021-07-29T17:34:08.542653",
     "exception": false,
     "start_time": "2021-07-29T17:34:08.218285",
     "status": "completed"
    },
    "tags": []
   },
   "outputs": [],
   "source": [
    "train['income']=train['income'].apply(lambda x: x if x<=200000 else 200000)"
   ]
  },
  {
   "cell_type": "code",
   "execution_count": 35,
   "metadata": {
    "execution": {
     "iopub.execute_input": "2021-07-29T17:34:09.070978Z",
     "iopub.status.busy": "2021-07-29T17:34:09.070203Z",
     "iopub.status.idle": "2021-07-29T17:34:09.080379Z",
     "shell.execute_reply": "2021-07-29T17:34:09.079680Z",
     "shell.execute_reply.started": "2021-07-29T17:22:22.901602Z"
    },
    "papermill": {
     "duration": 0.278016,
     "end_time": "2021-07-29T17:34:09.080555",
     "exception": false,
     "start_time": "2021-07-29T17:34:08.802539",
     "status": "completed"
    },
    "tags": []
   },
   "outputs": [],
   "source": [
    "train['income'] = np.log(train['income'] + 1)\n",
    "test['income'] = np.log(test['income'] + 1)"
   ]
  },
  {
   "cell_type": "markdown",
   "metadata": {
    "papermill": {
     "duration": 0.259024,
     "end_time": "2021-07-29T17:34:09.602248",
     "exception": false,
     "start_time": "2021-07-29T17:34:09.343224",
     "status": "completed"
    },
    "tags": []
   },
   "source": [
    "# 5. Построение модели"
   ]
  },
  {
   "cell_type": "markdown",
   "metadata": {},
   "source": [
    "Стандартизируем числовые признаки в обучающей и тестовой выборке.\n",
    "Обновим общий датасет и разделим выборку на обучающую и тестовую."
   ]
  },
  {
   "cell_type": "code",
   "execution_count": 36,
   "metadata": {
    "execution": {
     "iopub.execute_input": "2021-07-29T17:34:10.125849Z",
     "iopub.status.busy": "2021-07-29T17:34:10.125049Z",
     "iopub.status.idle": "2021-07-29T17:34:10.418094Z",
     "shell.execute_reply": "2021-07-29T17:34:10.417401Z",
     "shell.execute_reply.started": "2021-07-29T17:22:22.925330Z"
    },
    "papermill": {
     "duration": 0.561209,
     "end_time": "2021-07-29T17:34:10.418294",
     "exception": false,
     "start_time": "2021-07-29T17:34:09.857085",
     "status": "completed"
    },
    "tags": []
   },
   "outputs": [],
   "source": [
    "scaler=StandardScaler().fit(train[num_cols])\n",
    "train_std=scaler.transform(train[num_cols])\n",
    "train[num_cols]=train_std\n",
    "test_std=scaler.transform(test[num_cols])\n",
    "test[num_cols]=test_std\n",
    "\n",
    "train['train'] = 1 # тренировочные\n",
    "test['train'] = 0 # тестовые\n",
    "df = pd.concat([train, test], ignore_index=True)\n",
    "\n",
    "X = train[list(set(train.columns) - set(['default','client_id']))].values\n",
    "Y = train['default'].to_numpy().astype('int')\n",
    "X_train, X_test, y_train, y_test = train_test_split(X, Y, test_size=0.20, random_state=32)"
   ]
  },
  {
   "cell_type": "markdown",
   "metadata": {},
   "source": [
    "Обучаем модель.\n",
    "Строим ROC AUC.\n",
    "Строим матрицу ошибок.\n",
    "Выводим метрики."
   ]
  },
  {
   "cell_type": "code",
   "execution_count": 37,
   "metadata": {
    "execution": {
     "iopub.execute_input": "2021-07-29T17:34:10.941972Z",
     "iopub.status.busy": "2021-07-29T17:34:10.941229Z",
     "iopub.status.idle": "2021-07-29T17:34:12.008292Z",
     "shell.execute_reply": "2021-07-29T17:34:12.007259Z",
     "shell.execute_reply.started": "2021-07-29T17:22:23.072846Z"
    },
    "papermill": {
     "duration": 1.333897,
     "end_time": "2021-07-29T17:34:12.008459",
     "exception": false,
     "start_time": "2021-07-29T17:34:10.674562",
     "status": "completed"
    },
    "tags": []
   },
   "outputs": [
    {
     "data": {
      "image/png": "[encoded data removed]",
      "text/plain": [
       "<Figure size 432x288 with 1 Axes>"
      ]
     },
     "metadata": {
      "needs_background": "light"
     },
     "output_type": "display_data"
    },
    {
     "name": "stdout",
     "output_type": "stream",
     "text": [
      "Confusion matrix\n",
      "[[12793    62]\n",
      " [ 1848    57]]\n"
     ]
    },
    {
     "data": {
      "image/png": "[encoded data removed]",
      "text/plain": [
       "<Figure size 432x288 with 2 Axes>"
      ]
     },
     "metadata": {
      "needs_background": "light"
     },
     "output_type": "display_data"
    },
    {
     "name": "stdout",
     "output_type": "stream",
     "text": [
      "accuracy_score: 0.8706\n",
      "f1_score: 0.0563\n",
      "recall_score: 0.0299\n"
     ]
    }
   ],
   "source": [
    "model_1 = LogisticRegression(solver='liblinear')\n",
    "model_1.fit(X_train, y_train)\n",
    "y_pred = model_1.predict(X_test)\n",
    "\n",
    "probs = model_1.predict_proba(X_test)\n",
    "probs = probs[:,1]\n",
    "show_roc_auc(y_test,probs)\n",
    "\n",
    "show_confusion_matrix(model_1,X_test,y_test)\n",
    "\n",
    "print('accuracy_score: {}'.format(np.round(accuracy_score(y_test, y_pred), 4)))\n",
    "print('f1_score: {}'.format(np.round(f1_score(y_test, y_pred), 4)))\n",
    "print('recall_score: {}'.format(np.round(recall_score(y_test, y_pred), 4)))"
   ]
  },
  {
   "cell_type": "markdown",
   "metadata": {
    "papermill": {
     "duration": 0.294436,
     "end_time": "2021-07-29T17:34:12.590293",
     "exception": false,
     "start_time": "2021-07-29T17:34:12.295857",
     "status": "completed"
    },
    "tags": []
   },
   "source": [
    "ROC AUC = 0.741.    \n",
    "Модель начала определять дефолтных клиентов. "
   ]
  },
  {
   "cell_type": "markdown",
   "metadata": {
    "papermill": {
     "duration": 0.271303,
     "end_time": "2021-07-29T17:34:23.645478",
     "exception": false,
     "start_time": "2021-07-29T17:34:23.374175",
     "status": "completed"
    },
    "tags": []
   },
   "source": [
    "# 6. Модель + полиноминальные признаки и гиперпараметры"
   ]
  },
  {
   "cell_type": "code",
   "execution_count": 38,
   "metadata": {
    "execution": {
     "iopub.execute_input": "2021-07-29T17:34:13.673800Z",
     "iopub.status.busy": "2021-07-29T17:34:13.671317Z",
     "iopub.status.idle": "2021-07-29T17:34:13.772928Z",
     "shell.execute_reply": "2021-07-29T17:34:13.772166Z",
     "shell.execute_reply.started": "2021-07-29T17:22:24.049679Z"
    },
    "papermill": {
     "duration": 0.379591,
     "end_time": "2021-07-29T17:34:13.773092",
     "exception": false,
     "start_time": "2021-07-29T17:34:13.393501",
     "status": "completed"
    },
    "tags": []
   },
   "outputs": [
    {
     "name": "stdout",
     "output_type": "stream",
     "text": [
      "Лучший penalty: l1\n",
      "Лучшее C: 1.0\n"
     ]
    }
   ],
   "source": [
    "# добавим новые признаки, через комбинацию\n",
    "data=df.copy()\n",
    "poly = PolynomialFeatures(2, include_bias=False)\n",
    "poly_data = poly.fit_transform(data[num_cols])[:, len(num_cols):]\n",
    "poly_cols = poly.get_feature_names()[len(num_cols):]\n",
    "poly_df = pd.DataFrame(poly_data, columns=poly_cols)\n",
    "data = data.join(poly_df,  how='left')\n",
    "\n",
    "C = np.logspace(0, 4, 10)\n",
    "\n",
    "penalty = ['l1','l2']\n",
    "hyperparameters = dict(C=C, penalty=penalty)\n",
    "\n",
    "model = LogisticRegression(solver = 'liblinear')\n",
    "model.fit(X_train, y_train)\n",
    "\n",
    "clf = GridSearchCV(model, hyperparameters, cv=5, verbose=0)\n",
    "\n",
    "best_model = clf.fit(X_train, y_train)\n",
    "\n",
    "print('Лучший penalty:', best_model.best_estimator_.get_params()['penalty'])\n",
    "print('Лучшее C:', best_model.best_estimator_.get_params()['C'])\n",
    "\n",
    "# Разделяем датасет\n",
    "train_p = data[data['train']==1].drop(['train'],axis=1)\n",
    "test_p = data[data['train']==0].drop(['train','default'],axis=1)\n",
    "\n",
    "X = train_p[list(set(train_p.columns) - set(['default','client_id']))].values\n",
    "Y = train_p['default'].to_numpy().astype('int')\n",
    "X_train, X_test, y_train, y_test = train_test_split(X, Y, test_size=0.20, random_state=32)\n"
   ]
  },
  {
   "cell_type": "markdown",
   "metadata": {},
   "source": [
    "Обучаем модель. Строим ROC AUC. Строим матрицу ошибок. Выводим метрики."
   ]
  },
  {
   "cell_type": "code",
   "execution_count": 39,
   "metadata": {
    "execution": {
     "iopub.execute_input": "2021-07-29T17:40:17.098120Z",
     "iopub.status.busy": "2021-07-29T17:40:17.096955Z",
     "iopub.status.idle": "2021-07-29T17:40:37.065953Z",
     "shell.execute_reply": "2021-07-29T17:40:37.065010Z",
     "shell.execute_reply.started": "2021-07-29T17:29:39.450123Z"
    },
    "papermill": {
     "duration": 20.264508,
     "end_time": "2021-07-29T17:40:37.066185",
     "exception": false,
     "start_time": "2021-07-29T17:40:16.801677",
     "status": "completed"
    },
    "tags": []
   },
   "outputs": [
    {
     "data": {
      "image/png": "[encoded data removed]",
      "text/plain": [
       "<Figure size 432x288 with 1 Axes>"
      ]
     },
     "metadata": {
      "needs_background": "light"
     },
     "output_type": "display_data"
    },
    {
     "name": "stdout",
     "output_type": "stream",
     "text": [
      "Confusion matrix\n",
      "[[12791    64]\n",
      " [ 1849    56]]\n"
     ]
    },
    {
     "data": {
      "image/png": "[encoded data removed]",
      "text/plain": [
       "<Figure size 432x288 with 2 Axes>"
      ]
     },
     "metadata": {
      "needs_background": "light"
     },
     "output_type": "display_data"
    },
    {
     "name": "stdout",
     "output_type": "stream",
     "text": [
      "accuracy_score: 0.8704\n",
      "f1_score: 0.0553\n",
      "recall_score: 0.0294\n"
     ]
    }
   ],
   "source": [
    "model_finish = LogisticRegression(penalty='l1', C=1.0, solver='liblinear')\n",
    "model_finish.fit(X_train, y_train)\n",
    "y_pred = model_finish.predict(X_test)\n",
    "\n",
    "probs = model_finish.predict_proba(X_test)\n",
    "probs = probs[:,1]\n",
    "show_roc_auc(y_test,probs)\n",
    "\n",
    "show_confusion_matrix(model_finish,X_test,y_test)\n",
    "\n",
    "print('accuracy_score: {}'.format(np.round(accuracy_score(y_test, y_pred), 4)))\n",
    "print('f1_score: {}'.format(np.round(f1_score(y_test, y_pred), 4)))\n",
    "print('recall_score: {}'.format(np.round(recall_score(y_test, y_pred), 4)))"
   ]
  },
  {
   "cell_type": "markdown",
   "metadata": {
    "papermill": {
     "duration": 0.293832,
     "end_time": "2021-07-29T17:40:37.651041",
     "exception": false,
     "start_time": "2021-07-29T17:40:37.357209",
     "status": "completed"
    },
    "tags": []
   },
   "source": [
    "Результат немного улучшился. Модель предсказывает большое количество ложно - не дефолтных клиентов."
   ]
  },
  {
   "cell_type": "markdown",
   "metadata": {
    "papermill": {
     "duration": 0.27985,
     "end_time": "2021-07-29T17:40:38.226536",
     "exception": false,
     "start_time": "2021-07-29T17:40:37.946686",
     "status": "completed"
    },
    "tags": []
   },
   "source": [
    "# 7. Подготовка данных для kaggle"
   ]
  },
  {
   "cell_type": "code",
   "execution_count": 40,
   "metadata": {
    "execution": {
     "iopub.execute_input": "2021-07-29T17:40:38.798105Z",
     "iopub.status.busy": "2021-07-29T17:40:38.796775Z",
     "iopub.status.idle": "2021-07-29T17:40:39.028317Z",
     "shell.execute_reply": "2021-07-29T17:40:39.027503Z",
     "shell.execute_reply.started": "2021-07-29T17:30:09.482921Z"
    },
    "papermill": {
     "duration": 0.522532,
     "end_time": "2021-07-29T17:40:39.028487",
     "exception": false,
     "start_time": "2021-07-29T17:40:38.505955",
     "status": "completed"
    },
    "tags": []
   },
   "outputs": [
    {
     "data": {
      "text/html": [
       "<div>\n",
       "<style scoped>\n",
       "    .dataframe tbody tr th:only-of-type {\n",
       "        vertical-align: middle;\n",
       "    }\n",
       "\n",
       "    .dataframe tbody tr th {\n",
       "        vertical-align: top;\n",
       "    }\n",
       "\n",
       "    .dataframe thead th {\n",
       "        text-align: right;\n",
       "    }\n",
       "</style>\n",
       "<table border=\"1\" class=\"dataframe\">\n",
       "  <thead>\n",
       "    <tr style=\"text-align: right;\">\n",
       "      <th></th>\n",
       "      <th>client_id</th>\n",
       "      <th>default</th>\n",
       "    </tr>\n",
       "  </thead>\n",
       "  <tbody>\n",
       "    <tr>\n",
       "      <th>99454</th>\n",
       "      <td>101829</td>\n",
       "      <td>0.063373</td>\n",
       "    </tr>\n",
       "    <tr>\n",
       "      <th>103289</th>\n",
       "      <td>63953</td>\n",
       "      <td>0.369246</td>\n",
       "    </tr>\n",
       "    <tr>\n",
       "      <th>76663</th>\n",
       "      <td>106644</td>\n",
       "      <td>0.207716</td>\n",
       "    </tr>\n",
       "    <tr>\n",
       "      <th>88994</th>\n",
       "      <td>35679</td>\n",
       "      <td>0.134243</td>\n",
       "    </tr>\n",
       "    <tr>\n",
       "      <th>78865</th>\n",
       "      <td>24544</td>\n",
       "      <td>0.080598</td>\n",
       "    </tr>\n",
       "    <tr>\n",
       "      <th>77458</th>\n",
       "      <td>21457</td>\n",
       "      <td>0.194336</td>\n",
       "    </tr>\n",
       "    <tr>\n",
       "      <th>97326</th>\n",
       "      <td>70178</td>\n",
       "      <td>0.065139</td>\n",
       "    </tr>\n",
       "    <tr>\n",
       "      <th>82512</th>\n",
       "      <td>76639</td>\n",
       "      <td>0.090187</td>\n",
       "    </tr>\n",
       "    <tr>\n",
       "      <th>101393</th>\n",
       "      <td>38923</td>\n",
       "      <td>0.064735</td>\n",
       "    </tr>\n",
       "    <tr>\n",
       "      <th>107793</th>\n",
       "      <td>93661</td>\n",
       "      <td>0.472320</td>\n",
       "    </tr>\n",
       "  </tbody>\n",
       "</table>\n",
       "</div>"
      ],
      "text/plain": [
       "        client_id   default\n",
       "99454      101829  0.063373\n",
       "103289      63953  0.369246\n",
       "76663      106644  0.207716\n",
       "88994       35679  0.134243\n",
       "78865       24544  0.080598\n",
       "77458       21457  0.194336\n",
       "97326       70178  0.065139\n",
       "82512       76639  0.090187\n",
       "101393      38923  0.064735\n",
       "107793      93661  0.472320"
      ]
     },
     "metadata": {},
     "output_type": "display_data"
    },
    {
     "data": {
      "text/plain": [
       "(36349, 2)"
      ]
     },
     "metadata": {},
     "output_type": "display_data"
    }
   ],
   "source": [
    "X_test_fin = test_p[list(set(test_p.columns) - set(['default','client_id']))].values\n",
    "\n",
    "y_probs = model_finish.predict_proba(X_test_fin)[:,1]\n",
    "\n",
    "test_p['default'] = y_probs\n",
    "submission = test_p[['client_id','default']]\n",
    "display(submission.sample(10))\n",
    "display(submission.shape)\n",
    "\n",
    "submission.to_csv('submission.csv', index=False)"
   ]
  },
  {
   "cell_type": "code",
   "execution_count": null,
   "metadata": {},
   "outputs": [],
   "source": []
  }
 ],
 "metadata": {
  "kernelspec": {
   "display_name": "Python 3",
   "language": "python",
   "name": "python3"
  },
  "language_info": {
   "codemirror_mode": {
    "name": "ipython",
    "version": 3
   },
   "file_extension": ".py",
   "mimetype": "text/x-python",
   "name": "python",
   "nbconvert_exporter": "python",
   "pygments_lexer": "ipython3",
   "version": "3.8.5"
  },
  "papermill": {
   "default_parameters": {},
   "duration": 493.786814,
   "end_time": "2021-07-29T17:40:41.323862",
   "environment_variables": {},
   "exception": null,
   "input_path": "__notebook__.ipynb",
   "output_path": "__notebook__.ipynb",
   "parameters": {},
   "start_time": "2021-07-29T17:32:27.537048",
   "version": "2.3.3"
  },
  "widgets": {
   "application/vnd.jupyter.widget-state+json": {
    "state": {
     "0292f0d11a8644a1ac3d37bb8639f0ec": {
      "model_module": "@jupyter-widgets/controls",
      "model_module_version": "1.5.0",
      "model_name": "HBoxModel",
      "state": {
       "_dom_classes": [],
       "_model_module": "@jupyter-widgets/controls",
       "_model_module_version": "1.5.0",
       "_model_name": "HBoxModel",
       "_view_count": null,
       "_view_module": "@jupyter-widgets/controls",
       "_view_module_version": "1.5.0",
       "_view_name": "HBoxView",
       "box_style": "",
       "children": [
        "IPY_MODEL_514a72922d4942368cabe931b171f896",
        "IPY_MODEL_db529743427e421e81218d28bc797b94",
        "IPY_MODEL_2cc7577406064dc4a7c6f72946c07bca"
       ],
       "layout": "IPY_MODEL_9e410dbecd3346f785e2b1d5b0da060e"
      }
     },
     "07b0b5e9b34f4422b321b19def4d940e": {
      "model_module": "@jupyter-widgets/base",
      "model_module_version": "1.2.0",
      "model_name": "LayoutModel",
      "state": {
       "_model_module": "@jupyter-widgets/base",
       "_model_module_version": "1.2.0",
       "_model_name": "LayoutModel",
       "_view_count": null,
       "_view_module": "@jupyter-widgets/base",
       "_view_module_version": "1.2.0",
       "_view_name": "LayoutView",
       "align_content": null,
       "align_items": null,
       "align_self": null,
       "border": null,
       "bottom": null,
       "display": null,
       "flex": null,
       "flex_flow": null,
       "grid_area": null,
       "grid_auto_columns": null,
       "grid_auto_flow": null,
       "grid_auto_rows": null,
       "grid_column": null,
       "grid_gap": null,
       "grid_row": null,
       "grid_template_areas": null,
       "grid_template_columns": null,
       "grid_template_rows": null,
       "height": null,
       "justify_content": null,
       "justify_items": null,
       "left": null,
       "margin": null,
       "max_height": null,
       "max_width": null,
       "min_height": null,
       "min_width": null,
       "object_fit": null,
       "object_position": null,
       "order": null,
       "overflow": null,
       "overflow_x": null,
       "overflow_y": null,
       "padding": null,
       "right": null,
       "top": null,
       "visibility": null,
       "width": null
      }
     },
     "1914c7ed7fe14de9bd686a74e2d732e9": {
      "model_module": "@jupyter-widgets/base",
      "model_module_version": "1.2.0",
      "model_name": "LayoutModel",
      "state": {
       "_model_module": "@jupyter-widgets/base",
       "_model_module_version": "1.2.0",
       "_model_name": "LayoutModel",
       "_view_count": null,
       "_view_module": "@jupyter-widgets/base",
       "_view_module_version": "1.2.0",
       "_view_name": "LayoutView",
       "align_content": null,
       "align_items": null,
       "align_self": null,
       "border": null,
       "bottom": null,
       "display": null,
       "flex": null,
       "flex_flow": null,
       "grid_area": null,
       "grid_auto_columns": null,
       "grid_auto_flow": null,
       "grid_auto_rows": null,
       "grid_column": null,
       "grid_gap": null,
       "grid_row": null,
       "grid_template_areas": null,
       "grid_template_columns": null,
       "grid_template_rows": null,
       "height": null,
       "justify_content": null,
       "justify_items": null,
       "left": null,
       "margin": null,
       "max_height": null,
       "max_width": null,
       "min_height": null,
       "min_width": null,
       "object_fit": null,
       "object_position": null,
       "order": null,
       "overflow": null,
       "overflow_x": null,
       "overflow_y": null,
       "padding": null,
       "right": null,
       "top": null,
       "visibility": null,
       "width": null
      }
     },
     "24c746870f8445b6ad6f9bc7301c1f73": {
      "model_module": "@jupyter-widgets/controls",
      "model_module_version": "1.5.0",
      "model_name": "HTMLModel",
      "state": {
       "_dom_classes": [],
       "_model_module": "@jupyter-widgets/controls",
       "_model_module_version": "1.5.0",
       "_model_name": "HTMLModel",
       "_view_count": null,
       "_view_module": "@jupyter-widgets/controls",
       "_view_module_version": "1.5.0",
       "_view_name": "HTMLView",
       "description": "",
       "description_tooltip": null,
       "layout": "IPY_MODEL_ba79f743aeaf48c8843ff32fbf25030e",
       "placeholder": "​",
       "style": "IPY_MODEL_94dc835f706747c291021fe0ccd0a48c",
       "value": " 1/1 [00:08&lt;00:00,  8.65s/it]"
      }
     },
     "28a468ad83954a3cb3150973fc0d7446": {
      "model_module": "@jupyter-widgets/base",
      "model_module_version": "1.2.0",
      "model_name": "LayoutModel",
      "state": {
       "_model_module": "@jupyter-widgets/base",
       "_model_module_version": "1.2.0",
       "_model_name": "LayoutModel",
       "_view_count": null,
       "_view_module": "@jupyter-widgets/base",
       "_view_module_version": "1.2.0",
       "_view_name": "LayoutView",
       "align_content": null,
       "align_items": null,
       "align_self": null,
       "border": null,
       "bottom": null,
       "display": null,
       "flex": null,
       "flex_flow": null,
       "grid_area": null,
       "grid_auto_columns": null,
       "grid_auto_flow": null,
       "grid_auto_rows": null,
       "grid_column": null,
       "grid_gap": null,
       "grid_row": null,
       "grid_template_areas": null,
       "grid_template_columns": null,
       "grid_template_rows": null,
       "height": null,
       "justify_content": null,
       "justify_items": null,
       "left": null,
       "margin": null,
       "max_height": null,
       "max_width": null,
       "min_height": null,
       "min_width": null,
       "object_fit": null,
       "object_position": null,
       "order": null,
       "overflow": null,
       "overflow_x": null,
       "overflow_y": null,
       "padding": null,
       "right": null,
       "top": null,
       "visibility": null,
       "width": null
      }
     },
     "2cc7577406064dc4a7c6f72946c07bca": {
      "model_module": "@jupyter-widgets/controls",
      "model_module_version": "1.5.0",
      "model_name": "HTMLModel",
      "state": {
       "_dom_classes": [],
       "_model_module": "@jupyter-widgets/controls",
       "_model_module_version": "1.5.0",
       "_model_name": "HTMLModel",
       "_view_count": null,
       "_view_module": "@jupyter-widgets/controls",
       "_view_module_version": "1.5.0",
       "_view_name": "HTMLView",
       "description": "",
       "description_tooltip": null,
       "layout": "IPY_MODEL_bafa85ef9db841ec8fefbced7c0b4c37",
       "placeholder": "​",
       "style": "IPY_MODEL_aea2d734207d4b168d59e4266fce6b14",
       "value": " 1/1 [00:03&lt;00:00,  3.13s/it]"
      }
     },
     "445c223ce8c241409b3974f208618f88": {
      "model_module": "@jupyter-widgets/controls",
      "model_module_version": "1.5.0",
      "model_name": "DescriptionStyleModel",
      "state": {
       "_model_module": "@jupyter-widgets/controls",
       "_model_module_version": "1.5.0",
       "_model_name": "DescriptionStyleModel",
       "_view_count": null,
       "_view_module": "@jupyter-widgets/base",
       "_view_module_version": "1.2.0",
       "_view_name": "StyleView",
       "description_width": ""
      }
     },
     "47111dd735524ff3a5a730d7dacdb084": {
      "model_module": "@jupyter-widgets/controls",
      "model_module_version": "1.5.0",
      "model_name": "HTMLModel",
      "state": {
       "_dom_classes": [],
       "_model_module": "@jupyter-widgets/controls",
       "_model_module_version": "1.5.0",
       "_model_name": "HTMLModel",
       "_view_count": null,
       "_view_module": "@jupyter-widgets/controls",
       "_view_module_version": "1.5.0",
       "_view_name": "HTMLView",
       "description": "",
       "description_tooltip": null,
       "layout": "IPY_MODEL_dc0b9cb4c79046c299947efd69943101",
       "placeholder": "​",
       "style": "IPY_MODEL_445c223ce8c241409b3974f208618f88",
       "value": " 33/33 [00:38&lt;00:00,  1.84s/it, Completed]"
      }
     },
     "514a72922d4942368cabe931b171f896": {
      "model_module": "@jupyter-widgets/controls",
      "model_module_version": "1.5.0",
      "model_name": "HTMLModel",
      "state": {
       "_dom_classes": [],
       "_model_module": "@jupyter-widgets/controls",
       "_model_module_version": "1.5.0",
       "_model_name": "HTMLModel",
       "_view_count": null,
       "_view_module": "@jupyter-widgets/controls",
       "_view_module_version": "1.5.0",
       "_view_name": "HTMLView",
       "description": "",
       "description_tooltip": null,
       "layout": "IPY_MODEL_ae2e86995e3d490fb295de67f2f39925",
       "placeholder": "​",
       "style": "IPY_MODEL_91aacd7426274014be4078ebfbd93d6d",
       "value": "Render HTML: 100%"
      }
     },
     "52f23407e98642d8995698dbb48413c6": {
      "model_module": "@jupyter-widgets/controls",
      "model_module_version": "1.5.0",
      "model_name": "FloatProgressModel",
      "state": {
       "_dom_classes": [],
       "_model_module": "@jupyter-widgets/controls",
       "_model_module_version": "1.5.0",
       "_model_name": "FloatProgressModel",
       "_view_count": null,
       "_view_module": "@jupyter-widgets/controls",
       "_view_module_version": "1.5.0",
       "_view_name": "ProgressView",
       "bar_style": "success",
       "description": "",
       "description_tooltip": null,
       "layout": "IPY_MODEL_28a468ad83954a3cb3150973fc0d7446",
       "max": 1,
       "min": 0,
       "orientation": "horizontal",
       "style": "IPY_MODEL_f3098be69d3d4b24806bfa12c70e2537",
       "value": 1
      }
     },
     "8459d24e9fb749328121ac191c1b1271": {
      "model_module": "@jupyter-widgets/base",
      "model_module_version": "1.2.0",
      "model_name": "LayoutModel",
      "state": {
       "_model_module": "@jupyter-widgets/base",
       "_model_module_version": "1.2.0",
       "_model_name": "LayoutModel",
       "_view_count": null,
       "_view_module": "@jupyter-widgets/base",
       "_view_module_version": "1.2.0",
       "_view_name": "LayoutView",
       "align_content": null,
       "align_items": null,
       "align_self": null,
       "border": null,
       "bottom": null,
       "display": null,
       "flex": null,
       "flex_flow": null,
       "grid_area": null,
       "grid_auto_columns": null,
       "grid_auto_flow": null,
       "grid_auto_rows": null,
       "grid_column": null,
       "grid_gap": null,
       "grid_row": null,
       "grid_template_areas": null,
       "grid_template_columns": null,
       "grid_template_rows": null,
       "height": null,
       "justify_content": null,
       "justify_items": null,
       "left": null,
       "margin": null,
       "max_height": null,
       "max_width": null,
       "min_height": null,
       "min_width": null,
       "object_fit": null,
       "object_position": null,
       "order": null,
       "overflow": null,
       "overflow_x": null,
       "overflow_y": null,
       "padding": null,
       "right": null,
       "top": null,
       "visibility": null,
       "width": null
      }
     },
     "91aacd7426274014be4078ebfbd93d6d": {
      "model_module": "@jupyter-widgets/controls",
      "model_module_version": "1.5.0",
      "model_name": "DescriptionStyleModel",
      "state": {
       "_model_module": "@jupyter-widgets/controls",
       "_model_module_version": "1.5.0",
       "_model_name": "DescriptionStyleModel",
       "_view_count": null,
       "_view_module": "@jupyter-widgets/base",
       "_view_module_version": "1.2.0",
       "_view_name": "StyleView",
       "description_width": ""
      }
     },
     "94dc835f706747c291021fe0ccd0a48c": {
      "model_module": "@jupyter-widgets/controls",
      "model_module_version": "1.5.0",
      "model_name": "DescriptionStyleModel",
      "state": {
       "_model_module": "@jupyter-widgets/controls",
       "_model_module_version": "1.5.0",
       "_model_name": "DescriptionStyleModel",
       "_view_count": null,
       "_view_module": "@jupyter-widgets/base",
       "_view_module_version": "1.2.0",
       "_view_name": "StyleView",
       "description_width": ""
      }
     },
     "94e8ee59d73a43ee99544d8af3b997c2": {
      "model_module": "@jupyter-widgets/base",
      "model_module_version": "1.2.0",
      "model_name": "LayoutModel",
      "state": {
       "_model_module": "@jupyter-widgets/base",
       "_model_module_version": "1.2.0",
       "_model_name": "LayoutModel",
       "_view_count": null,
       "_view_module": "@jupyter-widgets/base",
       "_view_module_version": "1.2.0",
       "_view_name": "LayoutView",
       "align_content": null,
       "align_items": null,
       "align_self": null,
       "border": null,
       "bottom": null,
       "display": null,
       "flex": null,
       "flex_flow": null,
       "grid_area": null,
       "grid_auto_columns": null,
       "grid_auto_flow": null,
       "grid_auto_rows": null,
       "grid_column": null,
       "grid_gap": null,
       "grid_row": null,
       "grid_template_areas": null,
       "grid_template_columns": null,
       "grid_template_rows": null,
       "height": null,
       "justify_content": null,
       "justify_items": null,
       "left": null,
       "margin": null,
       "max_height": null,
       "max_width": null,
       "min_height": null,
       "min_width": null,
       "object_fit": null,
       "object_position": null,
       "order": null,
       "overflow": null,
       "overflow_x": null,
       "overflow_y": null,
       "padding": null,
       "right": null,
       "top": null,
       "visibility": null,
       "width": null
      }
     },
     "9e410dbecd3346f785e2b1d5b0da060e": {
      "model_module": "@jupyter-widgets/base",
      "model_module_version": "1.2.0",
      "model_name": "LayoutModel",
      "state": {
       "_model_module": "@jupyter-widgets/base",
       "_model_module_version": "1.2.0",
       "_model_name": "LayoutModel",
       "_view_count": null,
       "_view_module": "@jupyter-widgets/base",
       "_view_module_version": "1.2.0",
       "_view_name": "LayoutView",
       "align_content": null,
       "align_items": null,
       "align_self": null,
       "border": null,
       "bottom": null,
       "display": null,
       "flex": null,
       "flex_flow": null,
       "grid_area": null,
       "grid_auto_columns": null,
       "grid_auto_flow": null,
       "grid_auto_rows": null,
       "grid_column": null,
       "grid_gap": null,
       "grid_row": null,
       "grid_template_areas": null,
       "grid_template_columns": null,
       "grid_template_rows": null,
       "height": null,
       "justify_content": null,
       "justify_items": null,
       "left": null,
       "margin": null,
       "max_height": null,
       "max_width": null,
       "min_height": null,
       "min_width": null,
       "object_fit": null,
       "object_position": null,
       "order": null,
       "overflow": null,
       "overflow_x": null,
       "overflow_y": null,
       "padding": null,
       "right": null,
       "top": null,
       "visibility": null,
       "width": null
      }
     },
     "a411ba5d099242399aee100c15b3dbb5": {
      "model_module": "@jupyter-widgets/base",
      "model_module_version": "1.2.0",
      "model_name": "LayoutModel",
      "state": {
       "_model_module": "@jupyter-widgets/base",
       "_model_module_version": "1.2.0",
       "_model_name": "LayoutModel",
       "_view_count": null,
       "_view_module": "@jupyter-widgets/base",
       "_view_module_version": "1.2.0",
       "_view_name": "LayoutView",
       "align_content": null,
       "align_items": null,
       "align_self": null,
       "border": null,
       "bottom": null,
       "display": null,
       "flex": null,
       "flex_flow": null,
       "grid_area": null,
       "grid_auto_columns": null,
       "grid_auto_flow": null,
       "grid_auto_rows": null,
       "grid_column": null,
       "grid_gap": null,
       "grid_row": null,
       "grid_template_areas": null,
       "grid_template_columns": null,
       "grid_template_rows": null,
       "height": null,
       "justify_content": null,
       "justify_items": null,
       "left": null,
       "margin": null,
       "max_height": null,
       "max_width": null,
       "min_height": null,
       "min_width": null,
       "object_fit": null,
       "object_position": null,
       "order": null,
       "overflow": null,
       "overflow_x": null,
       "overflow_y": null,
       "padding": null,
       "right": null,
       "top": null,
       "visibility": null,
       "width": null
      }
     },
     "ac22ab825ffe451a8240059119e08fad": {
      "model_module": "@jupyter-widgets/controls",
      "model_module_version": "1.5.0",
      "model_name": "HTMLModel",
      "state": {
       "_dom_classes": [],
       "_model_module": "@jupyter-widgets/controls",
       "_model_module_version": "1.5.0",
       "_model_name": "HTMLModel",
       "_view_count": null,
       "_view_module": "@jupyter-widgets/controls",
       "_view_module_version": "1.5.0",
       "_view_name": "HTMLView",
       "description": "",
       "description_tooltip": null,
       "layout": "IPY_MODEL_a411ba5d099242399aee100c15b3dbb5",
       "placeholder": "​",
       "style": "IPY_MODEL_accdecfeaed54dbb977c869f842ae396",
       "value": "Generate report structure: 100%"
      }
     },
     "accdecfeaed54dbb977c869f842ae396": {
      "model_module": "@jupyter-widgets/controls",
      "model_module_version": "1.5.0",
      "model_name": "DescriptionStyleModel",
      "state": {
       "_model_module": "@jupyter-widgets/controls",
       "_model_module_version": "1.5.0",
       "_model_name": "DescriptionStyleModel",
       "_view_count": null,
       "_view_module": "@jupyter-widgets/base",
       "_view_module_version": "1.2.0",
       "_view_name": "StyleView",
       "description_width": ""
      }
     },
     "ae2e86995e3d490fb295de67f2f39925": {
      "model_module": "@jupyter-widgets/base",
      "model_module_version": "1.2.0",
      "model_name": "LayoutModel",
      "state": {
       "_model_module": "@jupyter-widgets/base",
       "_model_module_version": "1.2.0",
       "_model_name": "LayoutModel",
       "_view_count": null,
       "_view_module": "@jupyter-widgets/base",
       "_view_module_version": "1.2.0",
       "_view_name": "LayoutView",
       "align_content": null,
       "align_items": null,
       "align_self": null,
       "border": null,
       "bottom": null,
       "display": null,
       "flex": null,
       "flex_flow": null,
       "grid_area": null,
       "grid_auto_columns": null,
       "grid_auto_flow": null,
       "grid_auto_rows": null,
       "grid_column": null,
       "grid_gap": null,
       "grid_row": null,
       "grid_template_areas": null,
       "grid_template_columns": null,
       "grid_template_rows": null,
       "height": null,
       "justify_content": null,
       "justify_items": null,
       "left": null,
       "margin": null,
       "max_height": null,
       "max_width": null,
       "min_height": null,
       "min_width": null,
       "object_fit": null,
       "object_position": null,
       "order": null,
       "overflow": null,
       "overflow_x": null,
       "overflow_y": null,
       "padding": null,
       "right": null,
       "top": null,
       "visibility": null,
       "width": null
      }
     },
     "aea2d734207d4b168d59e4266fce6b14": {
      "model_module": "@jupyter-widgets/controls",
      "model_module_version": "1.5.0",
      "model_name": "DescriptionStyleModel",
      "state": {
       "_model_module": "@jupyter-widgets/controls",
       "_model_module_version": "1.5.0",
       "_model_name": "DescriptionStyleModel",
       "_view_count": null,
       "_view_module": "@jupyter-widgets/base",
       "_view_module_version": "1.2.0",
       "_view_name": "StyleView",
       "description_width": ""
      }
     },
     "b14526ba96b64d0e988830d07f315312": {
      "model_module": "@jupyter-widgets/base",
      "model_module_version": "1.2.0",
      "model_name": "LayoutModel",
      "state": {
       "_model_module": "@jupyter-widgets/base",
       "_model_module_version": "1.2.0",
       "_model_name": "LayoutModel",
       "_view_count": null,
       "_view_module": "@jupyter-widgets/base",
       "_view_module_version": "1.2.0",
       "_view_name": "LayoutView",
       "align_content": null,
       "align_items": null,
       "align_self": null,
       "border": null,
       "bottom": null,
       "display": null,
       "flex": null,
       "flex_flow": null,
       "grid_area": null,
       "grid_auto_columns": null,
       "grid_auto_flow": null,
       "grid_auto_rows": null,
       "grid_column": null,
       "grid_gap": null,
       "grid_row": null,
       "grid_template_areas": null,
       "grid_template_columns": null,
       "grid_template_rows": null,
       "height": null,
       "justify_content": null,
       "justify_items": null,
       "left": null,
       "margin": null,
       "max_height": null,
       "max_width": null,
       "min_height": null,
       "min_width": null,
       "object_fit": null,
       "object_position": null,
       "order": null,
       "overflow": null,
       "overflow_x": null,
       "overflow_y": null,
       "padding": null,
       "right": null,
       "top": null,
       "visibility": null,
       "width": null
      }
     },
     "ba79f743aeaf48c8843ff32fbf25030e": {
      "model_module": "@jupyter-widgets/base",
      "model_module_version": "1.2.0",
      "model_name": "LayoutModel",
      "state": {
       "_model_module": "@jupyter-widgets/base",
       "_model_module_version": "1.2.0",
       "_model_name": "LayoutModel",
       "_view_count": null,
       "_view_module": "@jupyter-widgets/base",
       "_view_module_version": "1.2.0",
       "_view_name": "LayoutView",
       "align_content": null,
       "align_items": null,
       "align_self": null,
       "border": null,
       "bottom": null,
       "display": null,
       "flex": null,
       "flex_flow": null,
       "grid_area": null,
       "grid_auto_columns": null,
       "grid_auto_flow": null,
       "grid_auto_rows": null,
       "grid_column": null,
       "grid_gap": null,
       "grid_row": null,
       "grid_template_areas": null,
       "grid_template_columns": null,
       "grid_template_rows": null,
       "height": null,
       "justify_content": null,
       "justify_items": null,
       "left": null,
       "margin": null,
       "max_height": null,
       "max_width": null,
       "min_height": null,
       "min_width": null,
       "object_fit": null,
       "object_position": null,
       "order": null,
       "overflow": null,
       "overflow_x": null,
       "overflow_y": null,
       "padding": null,
       "right": null,
       "top": null,
       "visibility": null,
       "width": null
      }
     },
     "bafa85ef9db841ec8fefbced7c0b4c37": {
      "model_module": "@jupyter-widgets/base",
      "model_module_version": "1.2.0",
      "model_name": "LayoutModel",
      "state": {
       "_model_module": "@jupyter-widgets/base",
       "_model_module_version": "1.2.0",
       "_model_name": "LayoutModel",
       "_view_count": null,
       "_view_module": "@jupyter-widgets/base",
       "_view_module_version": "1.2.0",
       "_view_name": "LayoutView",
       "align_content": null,
       "align_items": null,
       "align_self": null,
       "border": null,
       "bottom": null,
       "display": null,
       "flex": null,
       "flex_flow": null,
       "grid_area": null,
       "grid_auto_columns": null,
       "grid_auto_flow": null,
       "grid_auto_rows": null,
       "grid_column": null,
       "grid_gap": null,
       "grid_row": null,
       "grid_template_areas": null,
       "grid_template_columns": null,
       "grid_template_rows": null,
       "height": null,
       "justify_content": null,
       "justify_items": null,
       "left": null,
       "margin": null,
       "max_height": null,
       "max_width": null,
       "min_height": null,
       "min_width": null,
       "object_fit": null,
       "object_position": null,
       "order": null,
       "overflow": null,
       "overflow_x": null,
       "overflow_y": null,
       "padding": null,
       "right": null,
       "top": null,
       "visibility": null,
       "width": null
      }
     },
     "bc3da8e570ca4526861e3516d968bde4": {
      "model_module": "@jupyter-widgets/controls",
      "model_module_version": "1.5.0",
      "model_name": "HTMLModel",
      "state": {
       "_dom_classes": [],
       "_model_module": "@jupyter-widgets/controls",
       "_model_module_version": "1.5.0",
       "_model_name": "HTMLModel",
       "_view_count": null,
       "_view_module": "@jupyter-widgets/controls",
       "_view_module_version": "1.5.0",
       "_view_name": "HTMLView",
       "description": "",
       "description_tooltip": null,
       "layout": "IPY_MODEL_07b0b5e9b34f4422b321b19def4d940e",
       "placeholder": "​",
       "style": "IPY_MODEL_c5cadf4e2e684c8d8f12e9864dc51034",
       "value": "Summarize dataset: 100%"
      }
     },
     "c5cadf4e2e684c8d8f12e9864dc51034": {
      "model_module": "@jupyter-widgets/controls",
      "model_module_version": "1.5.0",
      "model_name": "DescriptionStyleModel",
      "state": {
       "_model_module": "@jupyter-widgets/controls",
       "_model_module_version": "1.5.0",
       "_model_name": "DescriptionStyleModel",
       "_view_count": null,
       "_view_module": "@jupyter-widgets/base",
       "_view_module_version": "1.2.0",
       "_view_name": "StyleView",
       "description_width": ""
      }
     },
     "db529743427e421e81218d28bc797b94": {
      "model_module": "@jupyter-widgets/controls",
      "model_module_version": "1.5.0",
      "model_name": "FloatProgressModel",
      "state": {
       "_dom_classes": [],
       "_model_module": "@jupyter-widgets/controls",
       "_model_module_version": "1.5.0",
       "_model_name": "FloatProgressModel",
       "_view_count": null,
       "_view_module": "@jupyter-widgets/controls",
       "_view_module_version": "1.5.0",
       "_view_name": "ProgressView",
       "bar_style": "success",
       "description": "",
       "description_tooltip": null,
       "layout": "IPY_MODEL_8459d24e9fb749328121ac191c1b1271",
       "max": 1,
       "min": 0,
       "orientation": "horizontal",
       "style": "IPY_MODEL_ddd1d8300ea34dcf86908ded92adc42a",
       "value": 1
      }
     },
     "dc0b9cb4c79046c299947efd69943101": {
      "model_module": "@jupyter-widgets/base",
      "model_module_version": "1.2.0",
      "model_name": "LayoutModel",
      "state": {
       "_model_module": "@jupyter-widgets/base",
       "_model_module_version": "1.2.0",
       "_model_name": "LayoutModel",
       "_view_count": null,
       "_view_module": "@jupyter-widgets/base",
       "_view_module_version": "1.2.0",
       "_view_name": "LayoutView",
       "align_content": null,
       "align_items": null,
       "align_self": null,
       "border": null,
       "bottom": null,
       "display": null,
       "flex": null,
       "flex_flow": null,
       "grid_area": null,
       "grid_auto_columns": null,
       "grid_auto_flow": null,
       "grid_auto_rows": null,
       "grid_column": null,
       "grid_gap": null,
       "grid_row": null,
       "grid_template_areas": null,
       "grid_template_columns": null,
       "grid_template_rows": null,
       "height": null,
       "justify_content": null,
       "justify_items": null,
       "left": null,
       "margin": null,
       "max_height": null,
       "max_width": null,
       "min_height": null,
       "min_width": null,
       "object_fit": null,
       "object_position": null,
       "order": null,
       "overflow": null,
       "overflow_x": null,
       "overflow_y": null,
       "padding": null,
       "right": null,
       "top": null,
       "visibility": null,
       "width": null
      }
     },
     "dc89a0b6b9ef4330868e9f482d8ecacd": {
      "model_module": "@jupyter-widgets/controls",
      "model_module_version": "1.5.0",
      "model_name": "HBoxModel",
      "state": {
       "_dom_classes": [],
       "_model_module": "@jupyter-widgets/controls",
       "_model_module_version": "1.5.0",
       "_model_name": "HBoxModel",
       "_view_count": null,
       "_view_module": "@jupyter-widgets/controls",
       "_view_module_version": "1.5.0",
       "_view_name": "HBoxView",
       "box_style": "",
       "children": [
        "IPY_MODEL_ac22ab825ffe451a8240059119e08fad",
        "IPY_MODEL_52f23407e98642d8995698dbb48413c6",
        "IPY_MODEL_24c746870f8445b6ad6f9bc7301c1f73"
       ],
       "layout": "IPY_MODEL_1914c7ed7fe14de9bd686a74e2d732e9"
      }
     },
     "dca17a7ed03d478fb42d661eea598f93": {
      "model_module": "@jupyter-widgets/controls",
      "model_module_version": "1.5.0",
      "model_name": "ProgressStyleModel",
      "state": {
       "_model_module": "@jupyter-widgets/controls",
       "_model_module_version": "1.5.0",
       "_model_name": "ProgressStyleModel",
       "_view_count": null,
       "_view_module": "@jupyter-widgets/base",
       "_view_module_version": "1.2.0",
       "_view_name": "StyleView",
       "bar_color": null,
       "description_width": ""
      }
     },
     "ddd1d8300ea34dcf86908ded92adc42a": {
      "model_module": "@jupyter-widgets/controls",
      "model_module_version": "1.5.0",
      "model_name": "ProgressStyleModel",
      "state": {
       "_model_module": "@jupyter-widgets/controls",
       "_model_module_version": "1.5.0",
       "_model_name": "ProgressStyleModel",
       "_view_count": null,
       "_view_module": "@jupyter-widgets/base",
       "_view_module_version": "1.2.0",
       "_view_name": "StyleView",
       "bar_color": null,
       "description_width": ""
      }
     },
     "e0532d21d7134f3fa1e79be421f54c17": {
      "model_module": "@jupyter-widgets/controls",
      "model_module_version": "1.5.0",
      "model_name": "FloatProgressModel",
      "state": {
       "_dom_classes": [],
       "_model_module": "@jupyter-widgets/controls",
       "_model_module_version": "1.5.0",
       "_model_name": "FloatProgressModel",
       "_view_count": null,
       "_view_module": "@jupyter-widgets/controls",
       "_view_module_version": "1.5.0",
       "_view_name": "ProgressView",
       "bar_style": "success",
       "description": "",
       "description_tooltip": null,
       "layout": "IPY_MODEL_94e8ee59d73a43ee99544d8af3b997c2",
       "max": 33,
       "min": 0,
       "orientation": "horizontal",
       "style": "IPY_MODEL_dca17a7ed03d478fb42d661eea598f93",
       "value": 33
      }
     },
     "e12436bee4c94c2fa6b163a8b49cbf19": {
      "model_module": "@jupyter-widgets/controls",
      "model_module_version": "1.5.0",
      "model_name": "HBoxModel",
      "state": {
       "_dom_classes": [],
       "_model_module": "@jupyter-widgets/controls",
       "_model_module_version": "1.5.0",
       "_model_name": "HBoxModel",
       "_view_count": null,
       "_view_module": "@jupyter-widgets/controls",
       "_view_module_version": "1.5.0",
       "_view_name": "HBoxView",
       "box_style": "",
       "children": [
        "IPY_MODEL_bc3da8e570ca4526861e3516d968bde4",
        "IPY_MODEL_e0532d21d7134f3fa1e79be421f54c17",
        "IPY_MODEL_47111dd735524ff3a5a730d7dacdb084"
       ],
       "layout": "IPY_MODEL_b14526ba96b64d0e988830d07f315312"
      }
     },
     "f3098be69d3d4b24806bfa12c70e2537": {
      "model_module": "@jupyter-widgets/controls",
      "model_module_version": "1.5.0",
      "model_name": "ProgressStyleModel",
      "state": {
       "_model_module": "@jupyter-widgets/controls",
       "_model_module_version": "1.5.0",
       "_model_name": "ProgressStyleModel",
       "_view_count": null,
       "_view_module": "@jupyter-widgets/base",
       "_view_module_version": "1.2.0",
       "_view_name": "StyleView",
       "bar_color": null,
       "description_width": ""
      }
     }
    },
    "version_major": 2,
    "version_minor": 0
   }
  }
 },
 "nbformat": 4,
 "nbformat_minor": 5
}
